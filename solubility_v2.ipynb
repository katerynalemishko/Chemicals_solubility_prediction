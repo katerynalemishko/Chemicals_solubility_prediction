{
 "cells": [
  {
   "cell_type": "markdown",
   "id": "pretty-freight",
   "metadata": {},
   "source": [
    "# Solubility prediction for organic chemicals"
   ]
  },
  {
   "cell_type": "markdown",
   "id": "geological-ghana",
   "metadata": {},
   "source": [
    "Aqueous solubility is one of the key parameters defining a molecular drug activity.\n",
    "\n",
    "In this notebook, we will develop models to predict the solubility of organic molecules in water based on their physiochemical\n",
    "properties. "
   ]
  },
  {
   "cell_type": "code",
   "execution_count": 65,
   "id": "organized-navigator",
   "metadata": {},
   "outputs": [],
   "source": [
    "import numpy as np\n",
    "import pandas as pd\n",
    "import matplotlib.pyplot as plt\n",
    "%matplotlib inline\n",
    "import seaborn as sns\n",
    "\n",
    "import warnings\n",
    "warnings.filterwarnings('ignore')"
   ]
  },
  {
   "cell_type": "markdown",
   "id": "needed-kitty",
   "metadata": {},
   "source": [
    "The data was taken from the database created by Schaper and Raevskaja:\n",
    "https://doi.org/10.1021/ci400692n"
   ]
  },
  {
   "cell_type": "code",
   "execution_count": 66,
   "id": "distinguished-quality",
   "metadata": {},
   "outputs": [],
   "source": [
    "solubility=pd.read_excel(r'solubility.xlsx')"
   ]
  },
  {
   "cell_type": "code",
   "execution_count": 67,
   "id": "extensive-immigration",
   "metadata": {},
   "outputs": [
    {
     "data": {
      "text/html": [
       "<div>\n",
       "<style scoped>\n",
       "    .dataframe tbody tr th:only-of-type {\n",
       "        vertical-align: middle;\n",
       "    }\n",
       "\n",
       "    .dataframe tbody tr th {\n",
       "        vertical-align: top;\n",
       "    }\n",
       "\n",
       "    .dataframe thead th {\n",
       "        text-align: right;\n",
       "    }\n",
       "</style>\n",
       "<table border=\"1\" class=\"dataframe\">\n",
       "  <thead>\n",
       "    <tr style=\"text-align: right;\">\n",
       "      <th></th>\n",
       "      <th>Formula</th>\n",
       "      <th>name</th>\n",
       "      <th>Molecular weight</th>\n",
       "      <th>S(g/L)</th>\n",
       "      <th>S(M/L)</th>\n",
       "      <th>Tmp, C</th>\n",
       "      <th>pK1</th>\n",
       "      <th>pK2</th>\n",
       "      <th>pK3</th>\n",
       "      <th>f(ui)</th>\n",
       "      <th>logS</th>\n",
       "      <th>logP</th>\n",
       "    </tr>\n",
       "  </thead>\n",
       "  <tbody>\n",
       "    <tr>\n",
       "      <th>0</th>\n",
       "      <td>CC(C)(C)CO</td>\n",
       "      <td>NEOPENTYL  ALCOHOL;  2,2-DIMETHYL-1-PROPANOL</td>\n",
       "      <td>88.150</td>\n",
       "      <td>35.10</td>\n",
       "      <td>0.398</td>\n",
       "      <td>56.0</td>\n",
       "      <td>NaN</td>\n",
       "      <td>NaN</td>\n",
       "      <td>NaN</td>\n",
       "      <td>1.0</td>\n",
       "      <td>-0.40</td>\n",
       "      <td>1.108</td>\n",
       "    </tr>\n",
       "    <tr>\n",
       "      <th>1</th>\n",
       "      <td>CN=C=S</td>\n",
       "      <td>METHYL  ISOTHIOCYANATE</td>\n",
       "      <td>73.119</td>\n",
       "      <td>7.31</td>\n",
       "      <td>0.100</td>\n",
       "      <td>35.0</td>\n",
       "      <td>NaN</td>\n",
       "      <td>NaN</td>\n",
       "      <td>NaN</td>\n",
       "      <td>1.0</td>\n",
       "      <td>-1.00</td>\n",
       "      <td>1.013</td>\n",
       "    </tr>\n",
       "    <tr>\n",
       "      <th>2</th>\n",
       "      <td>C1OCOCO1</td>\n",
       "      <td>1,3,5-TRIOXANE</td>\n",
       "      <td>90.079</td>\n",
       "      <td>176.00</td>\n",
       "      <td>1.950</td>\n",
       "      <td>64.0</td>\n",
       "      <td>NaN</td>\n",
       "      <td>NaN</td>\n",
       "      <td>NaN</td>\n",
       "      <td>1.0</td>\n",
       "      <td>0.29</td>\n",
       "      <td>-0.446</td>\n",
       "    </tr>\n",
       "    <tr>\n",
       "      <th>3</th>\n",
       "      <td>CC(N)=O</td>\n",
       "      <td>ACETAMIDE</td>\n",
       "      <td>59.068</td>\n",
       "      <td>2250.00</td>\n",
       "      <td>38.000</td>\n",
       "      <td>80.0</td>\n",
       "      <td>NaN</td>\n",
       "      <td>NaN</td>\n",
       "      <td>NaN</td>\n",
       "      <td>1.0</td>\n",
       "      <td>1.58</td>\n",
       "      <td>-0.832</td>\n",
       "    </tr>\n",
       "    <tr>\n",
       "      <th>4</th>\n",
       "      <td>CC(O)CNCC(C)O</td>\n",
       "      <td>BIS(2-HYDROXYPROPYL)AMINE</td>\n",
       "      <td>133.191</td>\n",
       "      <td>860.00</td>\n",
       "      <td>6.460</td>\n",
       "      <td>44.5</td>\n",
       "      <td>8.97</td>\n",
       "      <td>NaN</td>\n",
       "      <td>NaN</td>\n",
       "      <td>1.0</td>\n",
       "      <td>0.81</td>\n",
       "      <td>-0.540</td>\n",
       "    </tr>\n",
       "  </tbody>\n",
       "</table>\n",
       "</div>"
      ],
      "text/plain": [
       "         Formula                                          name  \\\n",
       "0     CC(C)(C)CO  NEOPENTYL  ALCOHOL;  2,2-DIMETHYL-1-PROPANOL   \n",
       "1         CN=C=S                        METHYL  ISOTHIOCYANATE   \n",
       "2       C1OCOCO1                                1,3,5-TRIOXANE   \n",
       "3        CC(N)=O                                     ACETAMIDE   \n",
       "4  CC(O)CNCC(C)O                     BIS(2-HYDROXYPROPYL)AMINE   \n",
       "\n",
       "   Molecular weight   S(g/L)  S(M/L)  Tmp, C   pK1  pK2  pK3  f(ui)  logS  \\\n",
       "0            88.150    35.10   0.398    56.0   NaN  NaN  NaN    1.0 -0.40   \n",
       "1            73.119     7.31   0.100    35.0   NaN  NaN  NaN    1.0 -1.00   \n",
       "2            90.079   176.00   1.950    64.0   NaN  NaN  NaN    1.0  0.29   \n",
       "3            59.068  2250.00  38.000    80.0   NaN  NaN  NaN    1.0  1.58   \n",
       "4           133.191   860.00   6.460    44.5  8.97  NaN  NaN    1.0  0.81   \n",
       "\n",
       "    logP  \n",
       "0  1.108  \n",
       "1  1.013  \n",
       "2 -0.446  \n",
       "3 -0.832  \n",
       "4 -0.540  "
      ]
     },
     "execution_count": 67,
     "metadata": {},
     "output_type": "execute_result"
    }
   ],
   "source": [
    "solubility.head()"
   ]
  },
  {
   "cell_type": "code",
   "execution_count": 68,
   "id": "undefined-adobe",
   "metadata": {},
   "outputs": [
    {
     "data": {
      "text/plain": [
       "(2615, 12)"
      ]
     },
     "execution_count": 68,
     "metadata": {},
     "output_type": "execute_result"
    }
   ],
   "source": [
    "solubility.shape"
   ]
  },
  {
   "cell_type": "code",
   "execution_count": 69,
   "id": "united-event",
   "metadata": {},
   "outputs": [
    {
     "data": {
      "text/plain": [
       "Index(['Formula', 'name', 'Molecular weight', 'S(g/L)', 'S(M/L)', 'Tmp, C',\n",
       "       'pK1', 'pK2', 'pK3', 'f(ui)', 'logS', 'logP'],\n",
       "      dtype='object')"
      ]
     },
     "execution_count": 69,
     "metadata": {},
     "output_type": "execute_result"
    }
   ],
   "source": [
    "solubility.columns"
   ]
  },
  {
   "cell_type": "markdown",
   "id": "liked-chicago",
   "metadata": {},
   "source": [
    "The data contains the following columns:\n",
    "    \n",
    "   **Formula**  contains a Simplified Molecular Input Line Entry System,” which is used to translate a\\\n",
    "   chemical's three-    dimensional structure into a string of symbols;\\\n",
    "   **name** is the IUPAC name of the compound;\\\n",
    "   **Molecular wight** contains molecular weight of a molecule;\\\n",
    "   **S(g/L)** is a solubility in grams per liter;\\\n",
    "   **S(M/L)** is a solubility in mole per liter;\\\n",
    "   **logS** is the natural logarithm of molar solubility;\\\n",
    "   **Tmp, C** is the temperature of the melting point of a substance;\\\n",
    "   **logP** is the value of octanol–water partition coefficient;\\\n",
    "   **pK1**, **pK2** and **pK3** are -log of corresponding constants of dissociation;\\\n",
    "   **f(ui)** - fraction un-ionized;\\"
   ]
  },
  {
   "cell_type": "code",
   "execution_count": 70,
   "id": "technological-portugal",
   "metadata": {},
   "outputs": [
    {
     "data": {
      "text/plain": [
       "Formula              object\n",
       "name                 object\n",
       "Molecular weight    float64\n",
       "S(g/L)              float64\n",
       "S(M/L)              float64\n",
       "Tmp, C              float64\n",
       "pK1                 float64\n",
       "pK2                 float64\n",
       "pK3                 float64\n",
       "f(ui)               float64\n",
       "logS                float64\n",
       "logP                float64\n",
       "dtype: object"
      ]
     },
     "execution_count": 70,
     "metadata": {},
     "output_type": "execute_result"
    }
   ],
   "source": [
    "solubility.dtypes"
   ]
  },
  {
   "cell_type": "markdown",
   "id": "manufactured-brunswick",
   "metadata": {},
   "source": [
    "Most of the variables are floats except for the chemical formula and chemical name."
   ]
  },
  {
   "cell_type": "markdown",
   "id": "acknowledged-consensus",
   "metadata": {},
   "source": [
    "## Target variable : solubility"
   ]
  },
  {
   "cell_type": "markdown",
   "id": "aerial-spelling",
   "metadata": {},
   "source": [
    "In this project, we will use some physiochemical properties of molecules to predict their solubility in water.\n",
    "\n",
    "The dataset contains solubility values in g/L, Mol/L, log Sexp, and log Suni : columns **S(g/L)**, **S(M/L)**,  and \n",
    "    **logS**.\n",
    "    \n",
    "Let us take a look at these columns."
   ]
  },
  {
   "cell_type": "code",
   "execution_count": 71,
   "id": "twenty-diploma",
   "metadata": {},
   "outputs": [
    {
     "data": {
      "image/png": "[encoded data removed]",
      "text/plain": [
       "<Figure size 1728x432 with 3 Axes>"
      ]
     },
     "metadata": {
      "needs_background": "light"
     },
     "output_type": "display_data"
    }
   ],
   "source": [
    "plt.figure(figsize=(24,6)) \n",
    "plt.rc('font', size=16)\n",
    "plt.subplot(131)\n",
    "sns.distplot(solubility['S(g/L)'])\n",
    "plt.subplot(132)\n",
    "sns.distplot(solubility['S(M/L)'])\n",
    "plt.subplot(133)\n",
    "sns.distplot(solubility['logS'])\n",
    "plt.show()"
   ]
  },
  {
   "cell_type": "markdown",
   "id": "tribal-transparency",
   "metadata": {},
   "source": [
    "We can see that the distributions of the absolute value of solubility ( in g/L and M/L) are not normal.\n",
    "We will use the logarithmic solubility (logS) as the target variable as its distribution is closer than normal as compared to\n",
    "the distributions of the absolute solubility values.\n",
    "\n",
    "It's generally accepted that the substances with logS greater than -5 are considered to be soluble in water and the sabstances with logS lower than -5 are considered to be insoluble.\n",
    "\n",
    "Let's create a  variable **soluble** that will indicate weather a molecule is considered to be soluble or insoluble in water accoridng to this criteria. The variable will be equal to 1 for soluble molecules and 0 for insoluble molecules.\n",
    "\n",
    "Ww will use this variable as the target variable for our predictive models."
   ]
  },
  {
   "cell_type": "code",
   "execution_count": 72,
   "id": "romantic-malaysia",
   "metadata": {},
   "outputs": [],
   "source": [
    "condition=(solubility['logS']>=-5)\n",
    "solubility['soluble']=np.where(condition,1,0)"
   ]
  },
  {
   "cell_type": "code",
   "execution_count": 73,
   "id": "close-communist",
   "metadata": {},
   "outputs": [
    {
     "data": {
      "text/plain": [
       "1    1980\n",
       "0     635\n",
       "Name: soluble, dtype: int64"
      ]
     },
     "execution_count": 73,
     "metadata": {},
     "output_type": "execute_result"
    }
   ],
   "source": [
    "solubility['soluble'].value_counts()"
   ]
  },
  {
   "cell_type": "markdown",
   "id": "toxic-syntax",
   "metadata": {},
   "source": [
    "Our dataset contains 1980 molecules that are soluble in water and 635 molecules that are insoluble.\n",
    "\n",
    "Let us visualise physiochemical properties present in the data set."
   ]
  },
  {
   "cell_type": "markdown",
   "id": "adjusted-source",
   "metadata": {},
   "source": [
    "## Visualization of physiochemical properties"
   ]
  },
  {
   "cell_type": "markdown",
   "id": "thousand-fellowship",
   "metadata": {},
   "source": [
    "### Molecular weight"
   ]
  },
  {
   "cell_type": "code",
   "execution_count": 74,
   "id": "filled-carry",
   "metadata": {},
   "outputs": [
    {
     "data": {
      "image/png": "[encoded data removed]",
      "text/plain": [
       "<Figure size 1008x288 with 2 Axes>"
      ]
     },
     "metadata": {
      "needs_background": "light"
     },
     "output_type": "display_data"
    }
   ],
   "source": [
    "plt.figure(1)\n",
    "plt.subplot(121)\n",
    "sns.distplot(solubility['Molecular weight'])\n",
    "plt.subplot(122)\n",
    "solubility['Molecular weight'].plot.box(figsize=(14,4))\n",
    "plt.show()"
   ]
  },
  {
   "cell_type": "markdown",
   "id": "meaningful-vietnam",
   "metadata": {},
   "source": [
    "The distribution of the molecular weights is right skewed."
   ]
  },
  {
   "cell_type": "markdown",
   "id": "guided-african",
   "metadata": {},
   "source": [
    "### Melting point (Tmp, C)"
   ]
  },
  {
   "cell_type": "code",
   "execution_count": 75,
   "id": "finite-american",
   "metadata": {},
   "outputs": [
    {
     "data": {
      "image/png": "[encoded data removed]",
      "text/plain": [
       "<Figure size 1008x288 with 2 Axes>"
      ]
     },
     "metadata": {
      "needs_background": "light"
     },
     "output_type": "display_data"
    }
   ],
   "source": [
    "plt.figure(1)\n",
    "plt.subplot(121)\n",
    "sns.distplot(solubility['Tmp, C'])\n",
    "plt.subplot(122)\n",
    "solubility['Tmp, C'].plot.box(figsize=(14,4))\n",
    "plt.show()"
   ]
  },
  {
   "cell_type": "markdown",
   "id": "million-cartoon",
   "metadata": {},
   "source": [
    "The distribution of the melting point temperatures is right-skewed."
   ]
  },
  {
   "cell_type": "markdown",
   "id": "specific-sample",
   "metadata": {},
   "source": [
    "### Octanol-water partitioning coefficient"
   ]
  },
  {
   "cell_type": "markdown",
   "id": "written-yellow",
   "metadata": {},
   "source": [
    "The octanol-water partitioning coefficient (P) describes the distribution of the substance between aqueous (polar) and \n",
    "n-octanol (non-polar) solvents and is defined by the relation of the substance concentration in water and in n-octanol.\n",
    "\n",
    "Let us visualize the natural logarithm of the partitioning coefficient (log(P)) of the substances in our data set."
   ]
  },
  {
   "cell_type": "code",
   "execution_count": 76,
   "id": "accredited-subsection",
   "metadata": {},
   "outputs": [
    {
     "data": {
      "image/png": "[encoded data removed]",
      "text/plain": [
       "<Figure size 1008x288 with 2 Axes>"
      ]
     },
     "metadata": {
      "needs_background": "light"
     },
     "output_type": "display_data"
    }
   ],
   "source": [
    "plt.figure(1)\n",
    "plt.subplot(121)\n",
    "sns.distplot(solubility['logP'])\n",
    "plt.subplot(122)\n",
    "solubility['logP'].plot.box(figsize=(14,4))\n",
    "plt.show()"
   ]
  },
  {
   "cell_type": "markdown",
   "id": "twelve-mobile",
   "metadata": {},
   "source": [
    "The distribution of octanol-water partitioning coefficients is not normal."
   ]
  },
  {
   "cell_type": "markdown",
   "id": "animal-criticism",
   "metadata": {},
   "source": [
    "### Dissociation constants"
   ]
  },
  {
   "cell_type": "markdown",
   "id": "sustained-mandate",
   "metadata": {},
   "source": [
    "Dissociation constant (K) define the extent to which a molecule can dissciate into ions in water.\n",
    "K1 is the constant for the first step dissociation from neutral molecule to one cation and one anion.\n",
    "K2 is the constant for the second step dissociation from an ion formed in the first step to another cation and anion.\n",
    "K3 is the constant for the third step dissociation.\n",
    "\n",
    "pK1, pK2 and pK3 are the negative logarithms of the dissociation constants (pK=-logK).\n",
    "\n",
    "Most of the molecule have only one step of dissociation.\n",
    "Let us visualize the distributions of the constants."
   ]
  },
  {
   "cell_type": "code",
   "execution_count": 77,
   "id": "valuable-portal",
   "metadata": {},
   "outputs": [
    {
     "data": {
      "image/png": "[encoded data removed]",
      "text/plain": [
       "<Figure size 1728x432 with 3 Axes>"
      ]
     },
     "metadata": {
      "needs_background": "light"
     },
     "output_type": "display_data"
    }
   ],
   "source": [
    "plt.figure(figsize=(24,6)) \n",
    "plt.rc('font', size=16)\n",
    "plt.subplot(131)\n",
    "sns.distplot(solubility['pK1'])\n",
    "plt.subplot(132)\n",
    "sns.distplot(solubility['pK2'])\n",
    "plt.subplot(133)\n",
    "sns.distplot(solubility['pK3'])\n",
    "plt.show()"
   ]
  },
  {
   "cell_type": "markdown",
   "id": "noticed-small",
   "metadata": {},
   "source": [
    "The distributions of dissociation constant are not normal."
   ]
  },
  {
   "cell_type": "markdown",
   "id": "killing-prospect",
   "metadata": {},
   "source": [
    "### Un-ionized fraction"
   ]
  },
  {
   "cell_type": "code",
   "execution_count": 78,
   "id": "patient-cannon",
   "metadata": {},
   "outputs": [
    {
     "data": {
      "text/plain": [
       "Text(0.5, 0, 'f(ui)')"
      ]
     },
     "execution_count": 78,
     "metadata": {},
     "output_type": "execute_result"
    },
    {
     "data": {
      "image/png": "[encoded data removed]",
      "text/plain": [
       "<Figure size 432x288 with 1 Axes>"
      ]
     },
     "metadata": {
      "needs_background": "light"
     },
     "output_type": "display_data"
    }
   ],
   "source": [
    "solubility['f(ui)'].plot(kind='hist')\n",
    "plt.xlabel('f(ui)')"
   ]
  },
  {
   "cell_type": "markdown",
   "id": "tight-ethiopia",
   "metadata": {},
   "source": [
    "For most of the molecules f(ui)=1 (the un-ionized fraction = 1) so they are entirely in un-ionized form."
   ]
  },
  {
   "cell_type": "markdown",
   "id": "caroline-protest",
   "metadata": {},
   "source": [
    "## Solubility vs. physiochemical properties"
   ]
  },
  {
   "cell_type": "markdown",
   "id": "piano-institute",
   "metadata": {},
   "source": [
    "## Hypothesis stetement"
   ]
  },
  {
   "cell_type": "markdown",
   "id": "living-supervisor",
   "metadata": {},
   "source": [
    "We can make several hypothesis about the relationship between certain physiochemical qualities of a substance with\n",
    "the substance solubility in water. For example:\n",
    "    \n",
    "1.There should be a relationship between the octanol-water partinioning coefficient and the solubility of a substance.\n",
    "  Because one can assume that the higher is the solubility in water, the higher fraction of a sabstance would be in water\n",
    "  rather than in organic octanol. And the higher the fraction in octanol the lower should be the solubility in water.\n",
    "  So the higher is the partitioning coefficient the lower is the solubility.\n",
    "  \n",
    "2.A volume-related term (molecular polarizability α) was experimentally found to have an essential negative contribution \n",
    "  to solubility. The lower polarizability the higher solubility in polar water.\n",
    " \n",
    "3.Water is a polar solvent so one can assume that the higher unionized fraction f(ui) the lower solubility in polar \n",
    "   water   solvent\n",
    "\n",
    "4.One can also assume that the higher molecular weight the lower solubility because it is more difficult for a large molecule\n",
    "  to dissolve.\n",
    "\n",
    "5.The higher dissociation constants the higher solubility.\n",
    "    \n",
    "Let us make the pairplots with logS vs. physiochemical variable which will help us to explore all these hypothesis."
   ]
  },
  {
   "cell_type": "code",
   "execution_count": 79,
   "id": "legal-explanation",
   "metadata": {},
   "outputs": [
    {
     "data": {
      "text/plain": [
       "<Figure size 144x1800 with 0 Axes>"
      ]
     },
     "metadata": {},
     "output_type": "display_data"
    },
    {
     "data": {
      "image/png": "[encoded data removed]",
      "text/plain": [
       "<Figure size 540x180 with 3 Axes>"
      ]
     },
     "metadata": {
      "needs_background": "light"
     },
     "output_type": "display_data"
    },
    {
     "data": {
      "image/png": "[encoded data removed]",
      "text/plain": [
       "<Figure size 720x180 with 4 Axes>"
      ]
     },
     "metadata": {
      "needs_background": "light"
     },
     "output_type": "display_data"
    }
   ],
   "source": [
    "plt.figure(figsize=(2, 25))\n",
    "sns.pairplot(data=solubility,\n",
    "                  x_vars= ['Molecular weight', 'Tmp, C','f(ui)'],\n",
    "                  y_vars=['logS'])\n",
    "sns.pairplot(data=solubility,\n",
    "                  x_vars= ['pK1', 'pK2', 'pK3','logP'],\n",
    "                  y_vars=['logS'])\n",
    "plt.show()"
   ]
  },
  {
   "cell_type": "markdown",
   "id": "pending-massage",
   "metadata": {},
   "source": [
    "From the pairplots we can infer the following information:\n",
    "    \n",
    "- For the molecules with the molecular weight below 500, logS overally decreases with the increment in molecular wight.\n",
    "  For the molecules with higher moleculatr weight there is no clear trend in relationship between solubility and molecular     weight.\n",
    "\n",
    "- There is no clear trend in the relationship between logS and melting temperature (Tmp, C), dissociation constants (pK1,pK2,pK3), the un-ionized fractio (f(ui)).\n",
    "\n",
    "- There seems to be a strong negative linear relationship between logS and the octanol-water partitioning coefficient logP.\n",
    "\n",
    "- For the molcules with lower values of polarizability (alpha) there seems to be a linear trend in the relationship with logS."
   ]
  },
  {
   "cell_type": "markdown",
   "id": "relevant-undergraduate",
   "metadata": {},
   "source": [
    "### Correlation heatmap"
   ]
  },
  {
   "cell_type": "markdown",
   "id": "seeing-fortune",
   "metadata": {},
   "source": [
    "Let us quickly look at the correlation heatmap to check the correlations amongst all features."
   ]
  },
  {
   "cell_type": "code",
   "execution_count": 80,
   "id": "western-ordinary",
   "metadata": {
    "scrolled": true
   },
   "outputs": [
    {
     "data": {
      "image/png": "[encoded data removed]",
      "text/plain": [
       "<Figure size 720x360 with 2 Axes>"
      ]
     },
     "metadata": {
      "needs_background": "light"
     },
     "output_type": "display_data"
    }
   ],
   "source": [
    "plt.figure(figsize=(10, 5))\n",
    "corr = solubility.drop(['soluble','Formula','name'],axis=1).apply(lambda x: pd.factorize(x)[0]).corr()\n",
    "ax = sns.heatmap(corr, xticklabels=corr.columns, yticklabels=corr.columns, \n",
    "                 linewidths=.2, cmap=\"YlGnBu\")"
   ]
  },
  {
   "cell_type": "markdown",
   "id": "absent-inflation",
   "metadata": {},
   "source": [
    "We can infer from the correlation matrix plot that solubility is correlated with polarizability (alpha), molecular wight and\n",
    "logP. We can also infer that alpha is correlated with logP and molecular weight.\n",
    "\n",
    "Now, let us transform the data and generate new features that we can use for predictive modelling."
   ]
  },
  {
   "cell_type": "markdown",
   "id": "compact-thumb",
   "metadata": {},
   "source": [
    "## Missing values treatment"
   ]
  },
  {
   "cell_type": "code",
   "execution_count": 81,
   "id": "british-criminal",
   "metadata": {},
   "outputs": [],
   "source": [
    "data=solubility.copy()"
   ]
  },
  {
   "cell_type": "code",
   "execution_count": 82,
   "id": "substantial-reflection",
   "metadata": {},
   "outputs": [
    {
     "data": {
      "text/plain": [
       "Formula                0\n",
       "name                   0\n",
       "Molecular weight       0\n",
       "S(g/L)                 0\n",
       "S(M/L)                 0\n",
       "Tmp, C               263\n",
       "pK1                 1232\n",
       "pK2                 2197\n",
       "pK3                 2540\n",
       "f(ui)                  8\n",
       "logS                   0\n",
       "logP                   0\n",
       "soluble                0\n",
       "dtype: int64"
      ]
     },
     "execution_count": 82,
     "metadata": {},
     "output_type": "execute_result"
    }
   ],
   "source": [
    "data.isnull().sum()"
   ]
  },
  {
   "cell_type": "markdown",
   "id": "falling-craft",
   "metadata": {},
   "source": [
    "There are missing values for the melting point variable (Tmp, C), the dissociation constant variables(pK1, pK2 and pK3) and\n",
    "the variable that defines the un-ionization fraction  (f(ui)).\n",
    "\n",
    "Most of the molecules have only one constant of dissociation. In general, the second and the third steps of the dissociation\n",
    "happen in lesser extent than in the first step. For this reason, we can drop the variables pK2 and pK3.\n",
    "Missing pK1 value can mean that it was not measured because the substance has low solubility in water.\n",
    "Taking into account this assumption, we can do the following transformations:\n",
    "\n",
    "- We will impute the misssing pK1 values with the maximum pK1 value (high pK1 value mean low constant of dissociation)\n",
    "- We can create a new feature (pK1_NA) which will indicate wheather the substance had a missing dissociation   constant value.\n",
    "\n",
    "Additionally, we will impute f(ui) and Tmp, C values with their corresponding median values.\n",
    "\n",
    "Finally, we will drop the absolute solubility values S(g/L) and S(M/L)"
   ]
  },
  {
   "cell_type": "code",
   "execution_count": 83,
   "id": "subject-citation",
   "metadata": {},
   "outputs": [],
   "source": [
    "data=data.drop(['S(g/L)','S(M/L)','pK2','pK3'],axis=1)"
   ]
  },
  {
   "cell_type": "code",
   "execution_count": 84,
   "id": "dominican-modeling",
   "metadata": {},
   "outputs": [],
   "source": [
    "#data['pK1'].fillna(data['pK1'].median(),inplace=True)\n",
    "data['f(ui)'].fillna(data['f(ui)'].median(),inplace=True)\n",
    "data['Tmp, C'].fillna(data['Tmp, C'].median(),inplace=True)"
   ]
  },
  {
   "cell_type": "markdown",
   "id": "tracked-blink",
   "metadata": {},
   "source": [
    "**pK1_NA feature**"
   ]
  },
  {
   "cell_type": "code",
   "execution_count": 85,
   "id": "embedded-passing",
   "metadata": {},
   "outputs": [],
   "source": [
    "condition_pk=(data['pK1'].isna())\n",
    "data['pK1_NA']=np.where(condition_pk,1,0)"
   ]
  },
  {
   "cell_type": "code",
   "execution_count": 86,
   "id": "efficient-chain",
   "metadata": {},
   "outputs": [
    {
     "name": "stdout",
     "output_type": "stream",
     "text": [
      "0    1383\n",
      "1    1232\n",
      "Name: pK1_NA, dtype: int64\n"
     ]
    }
   ],
   "source": [
    "print(data['pK1_NA'].value_counts())"
   ]
  },
  {
   "cell_type": "code",
   "execution_count": 87,
   "id": "vocational-amsterdam",
   "metadata": {},
   "outputs": [],
   "source": [
    "# Impute pK1 with the min value\n",
    "data['pK1'].fillna(data['pK1'].min(),inplace=True)"
   ]
  },
  {
   "cell_type": "markdown",
   "id": "bearing-clinic",
   "metadata": {},
   "source": [
    "**Check for missing values**"
   ]
  },
  {
   "cell_type": "code",
   "execution_count": 88,
   "id": "detailed-horse",
   "metadata": {},
   "outputs": [
    {
     "data": {
      "text/plain": [
       "Formula             0\n",
       "name                0\n",
       "Molecular weight    0\n",
       "Tmp, C              0\n",
       "pK1                 0\n",
       "f(ui)               0\n",
       "logS                0\n",
       "logP                0\n",
       "soluble             0\n",
       "pK1_NA              0\n",
       "dtype: int64"
      ]
     },
     "execution_count": 88,
     "metadata": {},
     "output_type": "execute_result"
    }
   ],
   "source": [
    "data.isnull().sum()"
   ]
  },
  {
   "cell_type": "code",
   "execution_count": 89,
   "id": "sustainable-sixth",
   "metadata": {},
   "outputs": [
    {
     "data": {
      "text/plain": [
       "(2615, 10)"
      ]
     },
     "execution_count": 89,
     "metadata": {},
     "output_type": "execute_result"
    }
   ],
   "source": [
    "data.shape"
   ]
  },
  {
   "cell_type": "code",
   "execution_count": 90,
   "id": "green-raise",
   "metadata": {},
   "outputs": [],
   "source": [
    "data_cleaned=data.copy()\n",
    "data_cleaned.drop(['logS'], axis=1).to_csv('data_cleaned.csv',index=False)"
   ]
  },
  {
   "cell_type": "markdown",
   "id": "widespread-ghana",
   "metadata": {},
   "source": [
    "## Additional feature engineering"
   ]
  },
  {
   "cell_type": "markdown",
   "id": "composed-collins",
   "metadata": {},
   "source": [
    "Now, we will use the information about the chemical structure of molecules available through the variable Formula to\n",
    "generate new features that can affect aqueous solubility of a molecule."
   ]
  },
  {
   "cell_type": "markdown",
   "id": "extra-alaska",
   "metadata": {},
   "source": [
    "### Charge"
   ]
  },
  {
   "cell_type": "markdown",
   "id": "occasional-italic",
   "metadata": {},
   "source": [
    "One can assume that charged molcules should have higher solubility in water since water is a polar sovent.\n",
    "Charged molecules contain regions with positive charge and an equal amount of negatively charged regions in order to\n",
    "resulting charge to be 0."
   ]
  },
  {
   "cell_type": "code",
   "execution_count": 91,
   "id": "latin-snake",
   "metadata": {},
   "outputs": [
    {
     "name": "stdout",
     "output_type": "stream",
     "text": [
      "The number of charged and uncharged molecules:\n",
      "0    2430\n",
      "1     185\n",
      "Name: charge, dtype: int64\n"
     ]
    },
    {
     "data": {
      "text/plain": [
       "<AxesSubplot:xlabel='charge'>"
      ]
     },
     "execution_count": 91,
     "metadata": {},
     "output_type": "execute_result"
    },
    {
     "data": {
      "image/png": "[encoded data removed]",
      "text/plain": [
       "<Figure size 288x288 with 1 Axes>"
      ]
     },
     "metadata": {
      "needs_background": "light"
     },
     "output_type": "display_data"
    }
   ],
   "source": [
    "charge=[]\n",
    "\n",
    "for i in range(2615):\n",
    "    if data['Formula'][i].find('+')!=-1:\n",
    "    #if data['Formula'][i].count('+')>1:\n",
    "        charge.append(1)\n",
    "    else:\n",
    "        charge.append(0)\n",
    "data['charge']=charge\n",
    "print('The number of charged and uncharged molecules:')\n",
    "print(data['charge'].value_counts())\n",
    "\n",
    "charge=pd.crosstab(data['charge'],data['soluble'])\n",
    "charge.div(charge.sum(1).astype(float),axis=0).plot(kind='bar',stacked=True, figsize=(4,4))\n",
    "#,labels = {1:'yes', 0:'no'}"
   ]
  },
  {
   "cell_type": "markdown",
   "id": "freelance-citation",
   "metadata": {},
   "source": [
    "From the barplot we can infer that the proportion of soluble molecules is only slightly higher within charged molecules\n",
    "as compared to uncharged molecules."
   ]
  },
  {
   "cell_type": "markdown",
   "id": "important-cancellation",
   "metadata": {},
   "source": [
    "### Long carbon chain"
   ]
  },
  {
   "cell_type": "code",
   "execution_count": 92,
   "id": "ranging-belief",
   "metadata": {},
   "outputs": [
    {
     "data": {
      "image/png": "[encoded data removed]",
      "text/plain": [
       "<Figure size 288x288 with 1 Axes>"
      ]
     },
     "metadata": {
      "needs_background": "light"
     },
     "output_type": "display_data"
    }
   ],
   "source": [
    "long_chain=[]\n",
    "for i in range(2615):\n",
    "    if data['Formula'][i].find('CCCCCCCCCCCCC')!=-1:\n",
    "        long_chain.append(1)\n",
    "    else:\n",
    "        long_chain.append(0)\n",
    "        \n",
    "data['long_chain']=long_chain\n",
    "\n",
    "long_chain=pd.crosstab(data['long_chain'],data['soluble'])\n",
    "long_chain.div(long_chain.sum(1).astype(float),axis=0).plot(kind='bar',stacked=True, figsize=(4,4))\n",
    "plt.show()"
   ]
  },
  {
   "cell_type": "markdown",
   "id": "competent-mandate",
   "metadata": {},
   "source": [
    "We can infer that the proportion of soluble molecules is lower among molecules with molecules containing long carbon chains."
   ]
  },
  {
   "cell_type": "markdown",
   "id": "unlike-tours",
   "metadata": {},
   "source": [
    "It has been seen that the presence of the hydrogen bond acceptors like (CO, O, F, Cl etc.) has a negative impact on the\n",
    "substance solubility in water. Let us generate features that reflect the presence of different hydrogen bond acceptors \n",
    "in molecules."
   ]
  },
  {
   "cell_type": "markdown",
   "id": "yellow-andorra",
   "metadata": {},
   "source": [
    "### Double bonds"
   ]
  },
  {
   "cell_type": "code",
   "execution_count": 93,
   "id": "stable-marina",
   "metadata": {},
   "outputs": [
    {
     "data": {
      "image/png": "[encoded data removed]",
      "text/plain": [
       "<Figure size 288x288 with 1 Axes>"
      ]
     },
     "metadata": {
      "needs_background": "light"
     },
     "output_type": "display_data"
    }
   ],
   "source": [
    "double_bonds=[]\n",
    "\n",
    "for i in range(2615):\n",
    "    if data['Formula'][i].count('=')>4:\n",
    "        double_bonds.append(1)\n",
    "    else:\n",
    "        double_bonds.append(0)\n",
    "        \n",
    "data['double_bonds']=double_bonds\n",
    "\n",
    "double_bonds=pd.crosstab(data['double_bonds'],data['soluble'])\n",
    "double_bonds.div(double_bonds.sum(1).astype(float),axis=0).plot(kind='bar',stacked=True, figsize=(4,4))\n",
    "plt.show()"
   ]
  },
  {
   "cell_type": "markdown",
   "id": "negative-saver",
   "metadata": {},
   "source": [
    "We can infer that among the molecules with 5 and more double bonds, the proportion of soluble molecules is lower as compared \n",
    "to molecules with lower amount of double bonds."
   ]
  },
  {
   "cell_type": "markdown",
   "id": "chief-advocate",
   "metadata": {},
   "source": [
    "### Chlorine"
   ]
  },
  {
   "cell_type": "code",
   "execution_count": 94,
   "id": "composed-insight",
   "metadata": {},
   "outputs": [
    {
     "data": {
      "image/png": "[encoded data removed]",
      "text/plain": [
       "<Figure size 288x288 with 1 Axes>"
      ]
     },
     "metadata": {
      "needs_background": "light"
     },
     "output_type": "display_data"
    }
   ],
   "source": [
    "chlorine=[]\n",
    "\n",
    "for i in range(2615):\n",
    "    #if data['Smiles'][i].find('Cl')!=-1:\n",
    "    if data['Formula'][i].count('Cl')>2:\n",
    "        chlorine.append(1)\n",
    "    else:\n",
    "        chlorine.append(0)\n",
    "        \n",
    "data['chlorine']=chlorine\n",
    "\n",
    "chlorine=pd.crosstab(data['chlorine'],data['soluble'])\n",
    "chlorine.div(chlorine.sum(1).astype(float),axis=0).plot(kind='bar',stacked=True, figsize=(4,4))\n",
    "plt.show()"
   ]
  },
  {
   "cell_type": "markdown",
   "id": "sapphire-woman",
   "metadata": {},
   "source": [
    "### Fluorine"
   ]
  },
  {
   "cell_type": "code",
   "execution_count": 95,
   "id": "significant-tsunami",
   "metadata": {},
   "outputs": [
    {
     "data": {
      "image/png": "[encoded data removed]",
      "text/plain": [
       "<Figure size 288x288 with 1 Axes>"
      ]
     },
     "metadata": {
      "needs_background": "light"
     },
     "output_type": "display_data"
    }
   ],
   "source": [
    "fluorine=[]\n",
    "\n",
    "for i in range(2615):\n",
    "    #if data['Smiles'][i].find('F')!=-1:\n",
    "    if data['Formula'][i].count('F')>3:\n",
    "        fluorine.append(1)\n",
    "    else:\n",
    "        fluorine.append(0)\n",
    "        \n",
    "data['fluorine']=fluorine\n",
    "\n",
    "fluorine=pd.crosstab(data['fluorine'],data['soluble'])\n",
    "fluorine.div(fluorine.sum(1).astype(float),axis=0).plot(kind='bar',stacked=True, figsize=(4,4))\n",
    "plt.show()"
   ]
  },
  {
   "cell_type": "markdown",
   "id": "automotive-blink",
   "metadata": {},
   "source": [
    "### CO"
   ]
  },
  {
   "cell_type": "code",
   "execution_count": 96,
   "id": "selective-truth",
   "metadata": {},
   "outputs": [
    {
     "data": {
      "image/png": "[encoded data removed]",
      "text/plain": [
       "<Figure size 288x288 with 1 Axes>"
      ]
     },
     "metadata": {
      "needs_background": "light"
     },
     "output_type": "display_data"
    }
   ],
   "source": [
    "CO=[]\n",
    "\n",
    "for i in range(2615):\n",
    "    if data['Formula'][i].count('CO')>0:\n",
    "        CO.append(1)\n",
    "    else:\n",
    "        CO.append(0)\n",
    "        \n",
    "data['CO']=CO\n",
    "\n",
    "CO=pd.crosstab(data['CO'],data['soluble'])\n",
    "CO.div(CO.sum(1).astype(float),axis=0).plot(kind='bar',stacked=True, figsize=(4,4))\n",
    "plt.show()"
   ]
  },
  {
   "cell_type": "markdown",
   "id": "transparent-surgery",
   "metadata": {},
   "source": [
    "### NC"
   ]
  },
  {
   "cell_type": "code",
   "execution_count": 97,
   "id": "textile-washington",
   "metadata": {},
   "outputs": [
    {
     "data": {
      "image/png": "[encoded data removed]",
      "text/plain": [
       "<Figure size 288x288 with 1 Axes>"
      ]
     },
     "metadata": {
      "needs_background": "light"
     },
     "output_type": "display_data"
    }
   ],
   "source": [
    "NC=[]\n",
    "\n",
    "for i in range(2615):\n",
    "    if data['Formula'][i].count('NC')>0:\n",
    "        NC.append(1)\n",
    "    else:\n",
    "        NC.append(0)\n",
    "        \n",
    "data['NC']=NC\n",
    "\n",
    "NC=pd.crosstab(data['NC'],data['soluble'])\n",
    "NC.div(NC.sum(1).astype(float),axis=0).plot(kind='bar',stacked=True, figsize=(4,4))\n",
    "plt.show()"
   ]
  },
  {
   "cell_type": "markdown",
   "id": "going-characteristic",
   "metadata": {},
   "source": [
    "## Logistic Regression"
   ]
  },
  {
   "cell_type": "code",
   "execution_count": 98,
   "id": "suspended-measure",
   "metadata": {},
   "outputs": [],
   "source": [
    "from sklearn.model_selection import train_test_split\n",
    "from sklearn.preprocessing import StandardScaler"
   ]
  },
  {
   "cell_type": "code",
   "execution_count": 99,
   "id": "portuguese-fence",
   "metadata": {},
   "outputs": [],
   "source": [
    "X=data[['Molecular weight','Tmp, C','pK1','logP','f(ui)','charge','fluorine','chlorine','long_chain'\n",
    "        ,'double_bonds','CO','NC','pK1_NA']]\n",
    "y=data['soluble']"
   ]
  },
  {
   "cell_type": "markdown",
   "id": "communist-smith",
   "metadata": {},
   "source": [
    "*Data Standartization*"
   ]
  },
  {
   "cell_type": "code",
   "execution_count": 100,
   "id": "accomplished-fusion",
   "metadata": {},
   "outputs": [],
   "source": [
    "scaler=StandardScaler()\n",
    "X_scaled = scaler.fit_transform(X) "
   ]
  },
  {
   "cell_type": "code",
   "execution_count": 101,
   "id": "interested-smoke",
   "metadata": {},
   "outputs": [],
   "source": [
    "x_train, x_test, y_train,y_test=train_test_split(X_scaled,y,test_size=0.3,random_state=1,stratify=y)"
   ]
  },
  {
   "cell_type": "code",
   "execution_count": 102,
   "id": "primary-incident",
   "metadata": {},
   "outputs": [],
   "source": [
    "from sklearn.linear_model import LogisticRegression\n",
    "from sklearn.metrics import accuracy_score,f1_score"
   ]
  },
  {
   "cell_type": "code",
   "execution_count": 103,
   "id": "chicken-anchor",
   "metadata": {},
   "outputs": [
    {
     "data": {
      "text/html": [
       "<style>#sk-container-id-2 {color: black;background-color: white;}#sk-container-id-2 pre{padding: 0;}#sk-container-id-2 div.sk-toggleable {background-color: white;}#sk-container-id-2 label.sk-toggleable__label {cursor: pointer;display: block;width: 100%;margin-bottom: 0;padding: 0.3em;box-sizing: border-box;text-align: center;}#sk-container-id-2 label.sk-toggleable__label-arrow:before {content: \"▸\";float: left;margin-right: 0.25em;color: #696969;}#sk-container-id-2 label.sk-toggleable__label-arrow:hover:before {color: black;}#sk-container-id-2 div.sk-estimator:hover label.sk-toggleable__label-arrow:before {color: black;}#sk-container-id-2 div.sk-toggleable__content {max-height: 0;max-width: 0;overflow: hidden;text-align: left;background-color: #f0f8ff;}#sk-container-id-2 div.sk-toggleable__content pre {margin: 0.2em;color: black;border-radius: 0.25em;background-color: #f0f8ff;}#sk-container-id-2 input.sk-toggleable__control:checked~div.sk-toggleable__content {max-height: 200px;max-width: 100%;overflow: auto;}#sk-container-id-2 input.sk-toggleable__control:checked~label.sk-toggleable__label-arrow:before {content: \"▾\";}#sk-container-id-2 div.sk-estimator input.sk-toggleable__control:checked~label.sk-toggleable__label {background-color: #d4ebff;}#sk-container-id-2 div.sk-label input.sk-toggleable__control:checked~label.sk-toggleable__label {background-color: #d4ebff;}#sk-container-id-2 input.sk-hidden--visually {border: 0;clip: rect(1px 1px 1px 1px);clip: rect(1px, 1px, 1px, 1px);height: 1px;margin: -1px;overflow: hidden;padding: 0;position: absolute;width: 1px;}#sk-container-id-2 div.sk-estimator {font-family: monospace;background-color: #f0f8ff;border: 1px dotted black;border-radius: 0.25em;box-sizing: border-box;margin-bottom: 0.5em;}#sk-container-id-2 div.sk-estimator:hover {background-color: #d4ebff;}#sk-container-id-2 div.sk-parallel-item::after {content: \"\";width: 100%;border-bottom: 1px solid gray;flex-grow: 1;}#sk-container-id-2 div.sk-label:hover label.sk-toggleable__label {background-color: #d4ebff;}#sk-container-id-2 div.sk-serial::before {content: \"\";position: absolute;border-left: 1px solid gray;box-sizing: border-box;top: 0;bottom: 0;left: 50%;z-index: 0;}#sk-container-id-2 div.sk-serial {display: flex;flex-direction: column;align-items: center;background-color: white;padding-right: 0.2em;padding-left: 0.2em;position: relative;}#sk-container-id-2 div.sk-item {position: relative;z-index: 1;}#sk-container-id-2 div.sk-parallel {display: flex;align-items: stretch;justify-content: center;background-color: white;position: relative;}#sk-container-id-2 div.sk-item::before, #sk-container-id-2 div.sk-parallel-item::before {content: \"\";position: absolute;border-left: 1px solid gray;box-sizing: border-box;top: 0;bottom: 0;left: 50%;z-index: -1;}#sk-container-id-2 div.sk-parallel-item {display: flex;flex-direction: column;z-index: 1;position: relative;background-color: white;}#sk-container-id-2 div.sk-parallel-item:first-child::after {align-self: flex-end;width: 50%;}#sk-container-id-2 div.sk-parallel-item:last-child::after {align-self: flex-start;width: 50%;}#sk-container-id-2 div.sk-parallel-item:only-child::after {width: 0;}#sk-container-id-2 div.sk-dashed-wrapped {border: 1px dashed gray;margin: 0 0.4em 0.5em 0.4em;box-sizing: border-box;padding-bottom: 0.4em;background-color: white;}#sk-container-id-2 div.sk-label label {font-family: monospace;font-weight: bold;display: inline-block;line-height: 1.2em;}#sk-container-id-2 div.sk-label-container {text-align: center;}#sk-container-id-2 div.sk-container {/* jupyter's `normalize.less` sets `[hidden] { display: none; }` but bootstrap.min.css set `[hidden] { display: none !important; }` so we also need the `!important` here to be able to override the default hidden behavior on the sphinx rendered scikit-learn.org. See: https://github.com/scikit-learn/scikit-learn/issues/21755 */display: inline-block !important;position: relative;}#sk-container-id-2 div.sk-text-repr-fallback {display: none;}</style><div id=\"sk-container-id-2\" class=\"sk-top-container\"><div class=\"sk-text-repr-fallback\"><pre>LogisticRegression()</pre><b>In a Jupyter environment, please rerun this cell to show the HTML representation or trust the notebook. <br />On GitHub, the HTML representation is unable to render, please try loading this page with nbviewer.org.</b></div><div class=\"sk-container\" hidden><div class=\"sk-item\"><div class=\"sk-estimator sk-toggleable\"><input class=\"sk-toggleable__control sk-hidden--visually\" id=\"sk-estimator-id-2\" type=\"checkbox\" checked><label for=\"sk-estimator-id-2\" class=\"sk-toggleable__label sk-toggleable__label-arrow\">LogisticRegression</label><div class=\"sk-toggleable__content\"><pre>LogisticRegression()</pre></div></div></div></div></div>"
      ],
      "text/plain": [
       "LogisticRegression()"
      ]
     },
     "execution_count": 103,
     "metadata": {},
     "output_type": "execute_result"
    }
   ],
   "source": [
    "model=LogisticRegression()\n",
    "model.fit(x_train,y_train)"
   ]
  },
  {
   "cell_type": "code",
   "execution_count": 104,
   "id": "detected-contract",
   "metadata": {},
   "outputs": [
    {
     "name": "stdout",
     "output_type": "stream",
     "text": [
      "Model test accuracy: 0.9095541401273886\n",
      "Test F1 score: 0.9412737799834574\n"
     ]
    }
   ],
   "source": [
    "pred_test=model.predict(x_test)\n",
    "print('Model test accuracy:',accuracy_score(y_test,pred_test))\n",
    "print('Test F1 score:',f1_score(y_test,pred_test))"
   ]
  },
  {
   "cell_type": "markdown",
   "id": "liquid-offense",
   "metadata": {},
   "source": [
    "### k-fold cross validation"
   ]
  },
  {
   "cell_type": "code",
   "execution_count": 105,
   "id": "traditional-vienna",
   "metadata": {},
   "outputs": [],
   "source": [
    "from sklearn.model_selection import StratifiedKFold"
   ]
  },
  {
   "cell_type": "code",
   "execution_count": 106,
   "id": "impressed-monaco",
   "metadata": {},
   "outputs": [],
   "source": [
    "# Define function for cross validation\n",
    "def cv_scores(ml_model,transform=False,rfe=False,df1=X,y=y,n_features=None,verbose=True):\n",
    "    i = 1\n",
    "    mean_accuracy=[]\n",
    "    mean_f1=[]\n",
    "    \n",
    "    \n",
    "    kf = StratifiedKFold(n_splits=5,random_state=1,shuffle=True)\n",
    "    \n",
    "    for train_index,test_index in kf.split(df1,y):\n",
    "       # print('\\n{} of kfold {}'.format(i,kf.n_splits))\n",
    "        xtr,xvl = df1.loc[train_index],df1.loc[test_index]\n",
    "        ytr,yvl = y[train_index],y[test_index]\n",
    "        \n",
    "  # Feature transformation is needed or not\n",
    "        if transform==True:\n",
    "            xtr=scaler.fit_transform(xtr)\n",
    "            xvl=scaler.transform(xvl)\n",
    "        else:\n",
    "            pass\n",
    "        \n",
    "        model = ml_model\n",
    " \n",
    "  # FRE is performed or not\n",
    "        if rfe==True:\n",
    "            model_rfe=RFE(model,n_features_to_select=n_features)\n",
    "            model_rfe.fit(xtr,ytr)\n",
    "            xtr_rfe=model_rfe.transform(xtr)\n",
    "            xvl_rfe=model_rfe.transform(xvl)\n",
    "            model.fit(xtr_rfe,ytr)\n",
    "            pred_test=model.predict(xvl_rfe)\n",
    "        else:\n",
    "            model.fit(xtr,ytr)\n",
    "            pred_test=model.predict(xvl)\n",
    "            \n",
    "  # Calculate accuracy and F1 scores         \n",
    "        score_accuracy=accuracy_score(yvl,pred_test)\n",
    "        score_f1=f1_score(yvl,pred_test)\n",
    "        #print('accuracy score',score_accuracy)\n",
    "       # print('f1 score', score_f1)\n",
    "        mean_accuracy.append(score_accuracy)\n",
    "        mean_f1.append(score_f1)\n",
    "        i+=1    \n",
    "    \n",
    "    if verbose==True:\n",
    "        print('\\n Mean validation accuracy for this model: ',np.asarray(mean_accuracy).mean()) \n",
    "        print('\\n Mean validation F1 score for this model: ',np.asarray(mean_f1).mean())\n",
    "    else:\n",
    "        pass\n",
    "    \n",
    "    return [np.asarray(mean_accuracy).mean(),np.asarray(mean_f1).mean()]\n",
    "     "
   ]
  },
  {
   "cell_type": "code",
   "execution_count": 107,
   "id": "approved-cameroon",
   "metadata": {},
   "outputs": [
    {
     "name": "stdout",
     "output_type": "stream",
     "text": [
      "\n",
      " Mean validation accuracy for this model:  0.9151051625239006\n",
      "\n",
      " Mean validation F1 score for this model:  0.9450092722551835\n"
     ]
    },
    {
     "data": {
      "text/plain": [
       "[0.9151051625239006, 0.9450092722551835]"
      ]
     },
     "execution_count": 107,
     "metadata": {},
     "output_type": "execute_result"
    }
   ],
   "source": [
    "cv_scores(LogisticRegression(random_state=1),transform=True)"
   ]
  },
  {
   "cell_type": "markdown",
   "id": "improved-queens",
   "metadata": {},
   "source": [
    "### Feature selection"
   ]
  },
  {
   "cell_type": "code",
   "execution_count": 108,
   "id": "modern-certification",
   "metadata": {},
   "outputs": [],
   "source": [
    "from sklearn.feature_selection import RFE"
   ]
  },
  {
   "cell_type": "markdown",
   "id": "typical-madness",
   "metadata": {},
   "source": [
    "Let's rank the features according to their weight in the logit function."
   ]
  },
  {
   "cell_type": "code",
   "execution_count": 109,
   "id": "ranking-bangladesh",
   "metadata": {},
   "outputs": [
    {
     "name": "stdout",
     "output_type": "stream",
     "text": [
      "        Feature_name  Rank\n",
      "3               logP     1\n",
      "1             Tmp, C     2\n",
      "12            pK1_NA     3\n",
      "4              f(ui)     4\n",
      "9       double_bonds     5\n",
      "7           chlorine     6\n",
      "6           fluorine     7\n",
      "5             charge     8\n",
      "11                NC     9\n",
      "0   Molecular weight    10\n",
      "10                CO    11\n",
      "8         long_chain    12\n",
      "2                pK1    13\n"
     ]
    }
   ],
   "source": [
    "model=LogisticRegression(random_state=1)\n",
    "\n",
    "rfe=RFE(estimator=model,n_features_to_select=1,step=1)\n",
    "rfe.fit(x_train,y_train)\n",
    "\n",
    "ranking_df=pd.DataFrame()\n",
    "ranking_df['Feature_name']=X.columns\n",
    "ranking_df['Rank']=rfe.ranking_\n",
    "\n",
    "ranked=ranking_df.sort_values(by=['Rank'])\n",
    "print(ranked)"
   ]
  },
  {
   "cell_type": "markdown",
   "id": "juvenile-upper",
   "metadata": {},
   "source": [
    "We can use the Recursive Feature Elimination teqniue to find with which features we can buikd a Logistic Regression model\n",
    "with the highest mean validation accuracy and F1 scores.  "
   ]
  },
  {
   "cell_type": "code",
   "execution_count": 110,
   "id": "characteristic-malta",
   "metadata": {},
   "outputs": [],
   "source": [
    "def select_features(ml_model,transform=False,df1=X,y=y):\n",
    "    for index in range(1,df1.shape[1]+1):\n",
    "        print('Selected features: ', index)\n",
    "        print('*******************************************')\n",
    "        cv_scores(ml_model, transform=transform,rfe=True,n_features=index)\n",
    "        print('*******************************************')       "
   ]
  },
  {
   "cell_type": "code",
   "execution_count": 111,
   "id": "adaptive-animation",
   "metadata": {},
   "outputs": [
    {
     "name": "stdout",
     "output_type": "stream",
     "text": [
      "Selected features:  1\n",
      "*******************************************\n",
      "\n",
      " Mean validation accuracy for this model:  0.9059273422562141\n",
      "\n",
      " Mean validation F1 score for this model:  0.939430722455571\n",
      "*******************************************\n",
      "Selected features:  2\n",
      "*******************************************\n",
      "\n",
      " Mean validation accuracy for this model:  0.9063097514340344\n",
      "\n",
      " Mean validation F1 score for this model:  0.9395481043827243\n",
      "*******************************************\n",
      "Selected features:  3\n",
      "*******************************************\n",
      "\n",
      " Mean validation accuracy for this model:  0.9116634799235183\n",
      "\n",
      " Mean validation F1 score for this model:  0.9429603671806344\n",
      "*******************************************\n",
      "Selected features:  4\n",
      "*******************************************\n",
      "\n",
      " Mean validation accuracy for this model:  0.9139579349904399\n",
      "\n",
      " Mean validation F1 score for this model:  0.9442741230239038\n",
      "*******************************************\n",
      "Selected features:  5\n",
      "*******************************************\n",
      "\n",
      " Mean validation accuracy for this model:  0.9139579349904399\n",
      "\n",
      " Mean validation F1 score for this model:  0.9441413794548488\n",
      "*******************************************\n",
      "Selected features:  6\n",
      "*******************************************\n",
      "\n",
      " Mean validation accuracy for this model:  0.9158699808795412\n",
      "\n",
      " Mean validation F1 score for this model:  0.9453732039786488\n",
      "*******************************************\n",
      "Selected features:  7\n",
      "*******************************************\n",
      "\n",
      " Mean validation accuracy for this model:  0.9166347992351817\n",
      "\n",
      " Mean validation F1 score for this model:  0.9458864351494741\n",
      "*******************************************\n",
      "Selected features:  8\n",
      "*******************************************\n",
      "\n",
      " Mean validation accuracy for this model:  0.9151051625239006\n",
      "\n",
      " Mean validation F1 score for this model:  0.944959937501959\n",
      "*******************************************\n",
      "Selected features:  9\n",
      "*******************************************\n",
      "\n",
      " Mean validation accuracy for this model:  0.9173996175908222\n",
      "\n",
      " Mean validation F1 score for this model:  0.946441136254536\n",
      "*******************************************\n",
      "Selected features:  10\n",
      "*******************************************\n",
      "\n",
      " Mean validation accuracy for this model:  0.9158699808795412\n",
      "\n",
      " Mean validation F1 score for this model:  0.9454768129818669\n",
      "*******************************************\n",
      "Selected features:  11\n",
      "*******************************************\n",
      "\n",
      " Mean validation accuracy for this model:  0.9154875717017209\n",
      "\n",
      " Mean validation F1 score for this model:  0.9452464430825597\n",
      "*******************************************\n",
      "Selected features:  12\n",
      "*******************************************\n",
      "\n",
      " Mean validation accuracy for this model:  0.9151051625239006\n",
      "\n",
      " Mean validation F1 score for this model:  0.9450127558360413\n",
      "*******************************************\n",
      "Selected features:  13\n",
      "*******************************************\n",
      "\n",
      " Mean validation accuracy for this model:  0.9151051625239006\n",
      "\n",
      " Mean validation F1 score for this model:  0.9450092722551835\n",
      "*******************************************\n"
     ]
    }
   ],
   "source": [
    "select_features(LogisticRegression(random_state=1),transform=True)"
   ]
  },
  {
   "cell_type": "code",
   "execution_count": 112,
   "id": "passive-accident",
   "metadata": {},
   "outputs": [
    {
     "name": "stdout",
     "output_type": "stream",
     "text": [
      "Model test accuracy: 0.9146496815286624\n",
      "Test F1 score: 0.9446738232865399\n"
     ]
    }
   ],
   "source": [
    "select=RFE(LogisticRegression(random_state=1),n_features_to_select=9)\n",
    "select.fit(x_train,y_train)\n",
    "x_train_rfe=select.transform(x_train)\n",
    "x_test_rfe=select.transform(x_test)\n",
    "model=LogisticRegression(random_state=1)\n",
    "model.fit(x_train_rfe,y_train)\n",
    "pred_test=model.predict(x_test_rfe)\n",
    "print('Model test accuracy:',accuracy_score(y_test,pred_test))\n",
    "print('Test F1 score:',f1_score(y_test,pred_test))"
   ]
  },
  {
   "cell_type": "code",
   "execution_count": 113,
   "id": "biological-louis",
   "metadata": {},
   "outputs": [
    {
     "data": {
      "text/plain": [
       "Index(['Tmp, C', 'logP', 'f(ui)', 'charge', 'fluorine', 'chlorine',\n",
       "       'double_bonds', 'NC', 'pK1_NA'],\n",
       "      dtype='object')"
      ]
     },
     "execution_count": 113,
     "metadata": {},
     "output_type": "execute_result"
    }
   ],
   "source": [
    "features=X.columns[select.get_support()]\n",
    "features"
   ]
  },
  {
   "cell_type": "markdown",
   "id": "improving-shopper",
   "metadata": {},
   "source": [
    "**Cross-validation for the Logistic Regression model with selected features**"
   ]
  },
  {
   "cell_type": "code",
   "execution_count": 114,
   "id": "adopted-gateway",
   "metadata": {},
   "outputs": [
    {
     "name": "stdout",
     "output_type": "stream",
     "text": [
      "\n",
      " Mean validation accuracy for this model:  0.9173996175908222\n",
      "\n",
      " Mean validation F1 score for this model:  0.946441136254536\n"
     ]
    },
    {
     "data": {
      "text/plain": [
       "[0.9173996175908222, 0.946441136254536]"
      ]
     },
     "execution_count": 114,
     "metadata": {},
     "output_type": "execute_result"
    }
   ],
   "source": [
    "cv_scores(LogisticRegression(random_state=1),transform=True,rfe=True,n_features=9)"
   ]
  },
  {
   "cell_type": "markdown",
   "id": "renewable-child",
   "metadata": {},
   "source": [
    "## Decision Tree"
   ]
  },
  {
   "cell_type": "code",
   "execution_count": 115,
   "id": "numeric-cambodia",
   "metadata": {},
   "outputs": [],
   "source": [
    "x_train, x_test, y_train,y_test=train_test_split(X,y,test_size=0.3,random_state=1,stratify=y)"
   ]
  },
  {
   "cell_type": "code",
   "execution_count": 116,
   "id": "floral-glance",
   "metadata": {},
   "outputs": [],
   "source": [
    "from sklearn import tree"
   ]
  },
  {
   "cell_type": "code",
   "execution_count": 117,
   "id": "removed-honor",
   "metadata": {},
   "outputs": [
    {
     "name": "stdout",
     "output_type": "stream",
     "text": [
      "\n",
      " Mean validation accuracy for this model:  0.895602294455067\n",
      "\n",
      " Mean validation F1 score for this model:  0.930801274319571\n"
     ]
    },
    {
     "data": {
      "text/plain": [
       "[0.895602294455067, 0.930801274319571]"
      ]
     },
     "execution_count": 117,
     "metadata": {},
     "output_type": "execute_result"
    }
   ],
   "source": [
    "cv_scores(tree.DecisionTreeClassifier(random_state=1))"
   ]
  },
  {
   "cell_type": "markdown",
   "id": "encouraging-penguin",
   "metadata": {},
   "source": [
    "### Feature selection"
   ]
  },
  {
   "cell_type": "code",
   "execution_count": 118,
   "id": "sacred-timothy",
   "metadata": {},
   "outputs": [],
   "source": [
    "dt=tree.DecisionTreeClassifier(random_state=1).fit(x_train,y_train)"
   ]
  },
  {
   "cell_type": "code",
   "execution_count": 119,
   "id": "overall-subscription",
   "metadata": {},
   "outputs": [],
   "source": [
    "decision_tree = tree.export_graphviz(dt,out_file='tree.dot',feature_names=X.columns,max_depth=2,filled=True)"
   ]
  },
  {
   "cell_type": "code",
   "execution_count": 120,
   "id": "fatal-section",
   "metadata": {},
   "outputs": [],
   "source": [
    "import pydot\n",
    "(graph,) = pydot.graph_from_dot_file('tree.dot')\n",
    "graph.write_png('tree.png')"
   ]
  },
  {
   "cell_type": "markdown",
   "id": "meaning-structure",
   "metadata": {},
   "source": [
    "Now, let us view the decision tree till depth 2 and find out the features at the root and the first node.\n",
    "\n",
    "<img src=\"tree.png\" width=500 height=500>\n",
    "\n",
    "As is clear from the above decision tree we can create a new feature with binned logP with bin edgesaccording to the criteria in the values in the tree nodes."
   ]
  },
  {
   "cell_type": "code",
   "execution_count": 121,
   "id": "peaceful-bernard",
   "metadata": {},
   "outputs": [
    {
     "name": "stdout",
     "output_type": "stream",
     "text": [
      "Selected features:  1\n",
      "*******************************************\n",
      "\n",
      " Mean validation accuracy for this model:  0.864244741873805\n",
      "\n",
      " Mean validation F1 score for this model:  0.9098803310880097\n",
      "*******************************************\n",
      "Selected features:  2\n",
      "*******************************************\n",
      "\n",
      " Mean validation accuracy for this model:  0.867304015296367\n",
      "\n",
      " Mean validation F1 score for this model:  0.9121179286062657\n",
      "*******************************************\n",
      "Selected features:  3\n",
      "*******************************************\n",
      "\n",
      " Mean validation accuracy for this model:  0.8665391969407267\n",
      "\n",
      " Mean validation F1 score for this model:  0.9118650391990342\n",
      "*******************************************\n",
      "Selected features:  4\n",
      "*******************************************\n",
      "\n",
      " Mean validation accuracy for this model:  0.8852772466539196\n",
      "\n",
      " Mean validation F1 score for this model:  0.9246723238210806\n",
      "*******************************************\n",
      "Selected features:  5\n",
      "*******************************************\n",
      "\n",
      " Mean validation accuracy for this model:  0.8910133843212236\n",
      "\n",
      " Mean validation F1 score for this model:  0.9280438718229422\n",
      "*******************************************\n",
      "Selected features:  6\n",
      "*******************************************\n",
      "\n",
      " Mean validation accuracy for this model:  0.8986615678776291\n",
      "\n",
      " Mean validation F1 score for this model:  0.9332468459592702\n",
      "*******************************************\n",
      "Selected features:  7\n",
      "*******************************************\n",
      "\n",
      " Mean validation accuracy for this model:  0.8986615678776291\n",
      "\n",
      " Mean validation F1 score for this model:  0.9329014613270425\n",
      "*******************************************\n",
      "Selected features:  8\n",
      "*******************************************\n",
      "\n",
      " Mean validation accuracy for this model:  0.8933078393881454\n",
      "\n",
      " Mean validation F1 score for this model:  0.9298455894245192\n",
      "*******************************************\n",
      "Selected features:  9\n",
      "*******************************************\n",
      "\n",
      " Mean validation accuracy for this model:  0.8967495219885278\n",
      "\n",
      " Mean validation F1 score for this model:  0.9319640629166738\n",
      "*******************************************\n",
      "Selected features:  10\n",
      "*******************************************\n",
      "\n",
      " Mean validation accuracy for this model:  0.8944550669216061\n",
      "\n",
      " Mean validation F1 score for this model:  0.9302771135703602\n",
      "*******************************************\n",
      "Selected features:  11\n",
      "*******************************************\n",
      "\n",
      " Mean validation accuracy for this model:  0.895602294455067\n",
      "\n",
      " Mean validation F1 score for this model:  0.9310170356719715\n",
      "*******************************************\n",
      "Selected features:  12\n",
      "*******************************************\n",
      "\n",
      " Mean validation accuracy for this model:  0.8986615678776291\n",
      "\n",
      " Mean validation F1 score for this model:  0.9331597951840991\n",
      "*******************************************\n",
      "Selected features:  13\n",
      "*******************************************\n",
      "\n",
      " Mean validation accuracy for this model:  0.895602294455067\n",
      "\n",
      " Mean validation F1 score for this model:  0.930801274319571\n",
      "*******************************************\n"
     ]
    }
   ],
   "source": [
    "select_features(tree.DecisionTreeClassifier(random_state=1),transform=False)"
   ]
  },
  {
   "cell_type": "markdown",
   "id": "elementary-casino",
   "metadata": {},
   "source": [
    "**Cross-validation for the Decision Tree model with selected features**"
   ]
  },
  {
   "cell_type": "code",
   "execution_count": 122,
   "id": "lovely-exception",
   "metadata": {},
   "outputs": [
    {
     "name": "stdout",
     "output_type": "stream",
     "text": [
      "\n",
      " Mean validation accuracy for this model:  0.8986615678776291\n",
      "\n",
      " Mean validation F1 score for this model:  0.9331597951840991\n"
     ]
    },
    {
     "data": {
      "text/plain": [
       "[0.8986615678776291, 0.9331597951840991]"
      ]
     },
     "execution_count": 122,
     "metadata": {},
     "output_type": "execute_result"
    }
   ],
   "source": [
    "cv_scores(tree.DecisionTreeClassifier(random_state=1),transform=False,rfe=True,n_features=12)"
   ]
  },
  {
   "cell_type": "markdown",
   "id": "coordinate-married",
   "metadata": {},
   "source": [
    "## Random Forest"
   ]
  },
  {
   "cell_type": "code",
   "execution_count": 123,
   "id": "quarterly-feeling",
   "metadata": {},
   "outputs": [],
   "source": [
    "from sklearn.ensemble import RandomForestClassifier"
   ]
  },
  {
   "cell_type": "code",
   "execution_count": 124,
   "id": "patent-substance",
   "metadata": {},
   "outputs": [
    {
     "name": "stdout",
     "output_type": "stream",
     "text": [
      "\n",
      " Mean validation accuracy for this model:  0.9246653919694072\n",
      "\n",
      " Mean validation F1 score for this model:  0.9509078994682593\n"
     ]
    },
    {
     "data": {
      "text/plain": [
       "[0.9246653919694072, 0.9509078994682593]"
      ]
     },
     "execution_count": 124,
     "metadata": {},
     "output_type": "execute_result"
    }
   ],
   "source": [
    "cv_scores(RandomForestClassifier(random_state=1,max_depth=10))"
   ]
  },
  {
   "cell_type": "markdown",
   "id": "obvious-machine",
   "metadata": {},
   "source": [
    "### Feature selection"
   ]
  },
  {
   "cell_type": "code",
   "execution_count": 125,
   "id": "comparable-medication",
   "metadata": {},
   "outputs": [
    {
     "name": "stdout",
     "output_type": "stream",
     "text": [
      "Selected features:  1\n",
      "*******************************************\n",
      "\n",
      " Mean validation accuracy for this model:  0.8913957934990441\n",
      "\n",
      " Mean validation F1 score for this model:  0.9295753015674524\n",
      "*******************************************\n",
      "Selected features:  2\n",
      "*******************************************\n",
      "\n",
      " Mean validation accuracy for this model:  0.8975143403441683\n",
      "\n",
      " Mean validation F1 score for this model:  0.9335771289100508\n",
      "*******************************************\n",
      "Selected features:  3\n",
      "*******************************************\n",
      "\n",
      " Mean validation accuracy for this model:  0.9021032504780114\n",
      "\n",
      " Mean validation F1 score for this model:  0.9366025541513917\n",
      "*******************************************\n",
      "Selected features:  4\n",
      "*******************************************\n",
      "\n",
      " Mean validation accuracy for this model:  0.9108986615678777\n",
      "\n",
      " Mean validation F1 score for this model:  0.9421872434543384\n",
      "*******************************************\n",
      "Selected features:  5\n",
      "*******************************************\n",
      "\n",
      " Mean validation accuracy for this model:  0.9151051625239006\n",
      "\n",
      " Mean validation F1 score for this model:  0.9448396306248181\n",
      "*******************************************\n",
      "Selected features:  6\n",
      "*******************************************\n",
      "\n",
      " Mean validation accuracy for this model:  0.9193116634799235\n",
      "\n",
      " Mean validation F1 score for this model:  0.9472835609365001\n",
      "*******************************************\n",
      "Selected features:  7\n",
      "*******************************************\n",
      "\n",
      " Mean validation accuracy for this model:  0.9181644359464627\n",
      "\n",
      " Mean validation F1 score for this model:  0.9465782323845844\n",
      "*******************************************\n",
      "Selected features:  8\n",
      "*******************************************\n",
      "\n",
      " Mean validation accuracy for this model:  0.9239005736137667\n",
      "\n",
      " Mean validation F1 score for this model:  0.9504618669228184\n",
      "*******************************************\n",
      "Selected features:  9\n",
      "*******************************************\n",
      "\n",
      " Mean validation accuracy for this model:  0.9193116634799235\n",
      "\n",
      " Mean validation F1 score for this model:  0.9472881581227742\n",
      "*******************************************\n",
      "Selected features:  10\n",
      "*******************************************\n",
      "\n",
      " Mean validation accuracy for this model:  0.9204588910133843\n",
      "\n",
      " Mean validation F1 score for this model:  0.9481869629743385\n",
      "*******************************************\n",
      "Selected features:  11\n",
      "*******************************************\n",
      "\n",
      " Mean validation accuracy for this model:  0.9246653919694072\n",
      "\n",
      " Mean validation F1 score for this model:  0.950870458479368\n",
      "*******************************************\n",
      "Selected features:  12\n",
      "*******************************************\n",
      "\n",
      " Mean validation accuracy for this model:  0.9212237093690249\n",
      "\n",
      " Mean validation F1 score for this model:  0.9487309113747591\n",
      "*******************************************\n",
      "Selected features:  13\n",
      "*******************************************\n",
      "\n",
      " Mean validation accuracy for this model:  0.9246653919694072\n",
      "\n",
      " Mean validation F1 score for this model:  0.9509078994682593\n",
      "*******************************************\n"
     ]
    }
   ],
   "source": [
    "select_features(RandomForestClassifier(random_state=1,max_depth=10),transform=False)"
   ]
  },
  {
   "cell_type": "markdown",
   "id": "empty-royal",
   "metadata": {},
   "source": [
    "It looks like we get the best mean validation metrics when we use all the features."
   ]
  },
  {
   "cell_type": "markdown",
   "id": "vocal-stanford",
   "metadata": {},
   "source": [
    "### Tuning the hyperparameters"
   ]
  },
  {
   "cell_type": "markdown",
   "id": "intellectual-escape",
   "metadata": {},
   "source": [
    "We will try to improve accuracy by tuning hyperparameters for this model. \n",
    "\n",
    "We will tune the max_depth and n_estimators parameters. max_depth decides the maximum depth of the tree and n_estimators decides\n",
    "the number of trees that will be used in random forest model."
   ]
  },
  {
   "cell_type": "code",
   "execution_count": 126,
   "id": "postal-three",
   "metadata": {},
   "outputs": [
    {
     "name": "stdout",
     "output_type": "stream",
     "text": [
      "Best parameters:\n",
      "max_depth= 9\n",
      "n_estimators= 261\n"
     ]
    }
   ],
   "source": [
    "max_depth=list(range(1,20,2))\n",
    "n_estimators=list(range(1,300,20))\n",
    "max_accuracy=0\n",
    "\n",
    "\n",
    "for depth in max_depth:\n",
    "    for n in n_estimators:\n",
    "\n",
    "        mean_scores=cv_scores(RandomForestClassifier(random_state=1,max_depth=depth,n_estimators=n),verbose=False)\n",
    "        \n",
    "        #print('Model hyperparameters:')\n",
    "        #print('max_depth=',depth)\n",
    "        #print('n_estimators=',n)\n",
    "        #print('____________________________') \n",
    "        \n",
    "        \n",
    "        if mean_scores[0]>max_accuracy:\n",
    "            max_accuracy=mean_scores[0]\n",
    "            best_max_depth=depth\n",
    "            best_n_estimators=n\n",
    "\n",
    "print('Best parameters:')\n",
    "print('max_depth=',best_max_depth)\n",
    "print('n_estimators=',best_n_estimators)"
   ]
  },
  {
   "cell_type": "markdown",
   "id": "descending-consciousness",
   "metadata": {},
   "source": [
    "The optimized hyperparameters are:\n",
    "\n",
    "max_depth=9\n",
    "n_estimators=261\n",
    "    \n",
    "Now, let's build the model with these optimized values."
   ]
  },
  {
   "cell_type": "code",
   "execution_count": 127,
   "id": "individual-antigua",
   "metadata": {},
   "outputs": [
    {
     "name": "stdout",
     "output_type": "stream",
     "text": [
      "\n",
      " Mean validation accuracy for this model:  0.9273422562141491\n",
      "\n",
      " Mean validation F1 score for this model:  0.9528344184682951\n"
     ]
    },
    {
     "data": {
      "text/plain": [
       "[0.9273422562141491, 0.9528344184682951]"
      ]
     },
     "execution_count": 127,
     "metadata": {},
     "output_type": "execute_result"
    }
   ],
   "source": [
    "cv_scores(RandomForestClassifier(random_state=1,max_depth=9,n_estimators=261))"
   ]
  },
  {
   "cell_type": "markdown",
   "id": "ethical-jewelry",
   "metadata": {},
   "source": [
    "Let's also check the accuracy of this model on a test data:"
   ]
  },
  {
   "cell_type": "code",
   "execution_count": 128,
   "id": "loving-costa",
   "metadata": {},
   "outputs": [
    {
     "name": "stdout",
     "output_type": "stream",
     "text": [
      "Model test accuracy: 0.9273885350318471\n",
      "Test F1 score: 0.9525395503746877\n"
     ]
    }
   ],
   "source": [
    "model=RandomForestClassifier(random_state=1,max_depth=9,n_estimators=261)\n",
    "model.fit(x_train,y_train)\n",
    "pred_test=model.predict(x_test)\n",
    "print('Model test accuracy:',accuracy_score(y_test,pred_test))\n",
    "print('Test F1 score:',f1_score(y_test,pred_test))"
   ]
  },
  {
   "cell_type": "markdown",
   "id": "adolescent-nothing",
   "metadata": {},
   "source": [
    "The model shows quite good accuracy on a test data too (similar to the mean value of validation accuracy that we obtained in \n",
    "                                                       cross-validation)."
   ]
  },
  {
   "cell_type": "markdown",
   "id": "three-employee",
   "metadata": {},
   "source": [
    "Let us find the feature importance now, i.e. which features are the most important for this problem."
   ]
  },
  {
   "cell_type": "code",
   "execution_count": 129,
   "id": "military-sampling",
   "metadata": {},
   "outputs": [
    {
     "data": {
      "text/plain": [
       "<AxesSubplot:>"
      ]
     },
     "execution_count": 129,
     "metadata": {},
     "output_type": "execute_result"
    },
    {
     "data": {
      "image/png": "[encoded data removed]",
      "text/plain": [
       "<Figure size 864x576 with 1 Axes>"
      ]
     },
     "metadata": {
      "needs_background": "light"
     },
     "output_type": "display_data"
    }
   ],
   "source": [
    "model=RandomForestClassifier(random_state=1,max_depth=9,n_estimators=261).fit(x_train,y_train)\n",
    "importances=pd.Series(model.feature_importances_,index=X.columns)\n",
    "importances.sort_values(axis=0, ascending=False).plot(kind='barh',figsize=(12,8))"
   ]
  },
  {
   "cell_type": "markdown",
   "id": "polished-wedding",
   "metadata": {},
   "source": [
    "The most important features are octane-water partinioning coefficient, the presence of chlorine\n",
    "in the structure and polarizability (alpha) so feature engineering heped us to predict the target variable."
   ]
  },
  {
   "cell_type": "markdown",
   "id": "realistic-stations",
   "metadata": {},
   "source": [
    "## AdaBoost"
   ]
  },
  {
   "cell_type": "code",
   "execution_count": 130,
   "id": "early-edgar",
   "metadata": {},
   "outputs": [],
   "source": [
    "from sklearn.ensemble import AdaBoostClassifier"
   ]
  },
  {
   "cell_type": "code",
   "execution_count": 131,
   "id": "english-liberia",
   "metadata": {},
   "outputs": [
    {
     "name": "stdout",
     "output_type": "stream",
     "text": [
      "\n",
      " Mean validation accuracy for this model:  0.9181644359464627\n",
      "\n",
      " Mean validation F1 score for this model:  0.9468551871762501\n"
     ]
    },
    {
     "data": {
      "text/plain": [
       "[0.9181644359464627, 0.9468551871762501]"
      ]
     },
     "execution_count": 131,
     "metadata": {},
     "output_type": "execute_result"
    }
   ],
   "source": [
    "cv_scores(AdaBoostClassifier(random_state=1,base_estimator=RandomForestClassifier(random_state=1,max_depth=9)))"
   ]
  },
  {
   "cell_type": "markdown",
   "id": "packed-visitor",
   "metadata": {},
   "source": [
    "## XGBOOST"
   ]
  },
  {
   "cell_type": "markdown",
   "id": "adapted-minister",
   "metadata": {},
   "source": [
    "XGBOOST is a fast and efficient algorithm.\n",
    "XGBOOST works only with numeric variables. Let's have a look at the parameters we are going to use in our model.\n",
    "\n",
    "- n_estimator: This specifies the number of trees for the model.\n",
    "- max_depth: We can specify maximum depth of a tree using this parameter."
   ]
  },
  {
   "cell_type": "code",
   "execution_count": 132,
   "id": "blond-island",
   "metadata": {},
   "outputs": [],
   "source": [
    "from xgboost import XGBClassifier"
   ]
  },
  {
   "cell_type": "code",
   "execution_count": 133,
   "id": "specified-volleyball",
   "metadata": {},
   "outputs": [
    {
     "name": "stdout",
     "output_type": "stream",
     "text": [
      "\n",
      " Mean validation accuracy for this model:  0.9162523900573614\n",
      "\n",
      " Mean validation F1 score for this model:  0.9452451137165248\n"
     ]
    },
    {
     "data": {
      "text/plain": [
       "[0.9162523900573614, 0.9452451137165248]"
      ]
     },
     "execution_count": 133,
     "metadata": {},
     "output_type": "execute_result"
    }
   ],
   "source": [
    "cv_scores(XGBClassifier(random_state=1,max_depth=9))"
   ]
  },
  {
   "cell_type": "markdown",
   "id": "early-latitude",
   "metadata": {},
   "source": [
    "## Models metric comparison"
   ]
  },
  {
   "cell_type": "code",
   "execution_count": 134,
   "id": "female-contributor",
   "metadata": {},
   "outputs": [
    {
     "data": {
      "image/png": "[encoded data removed]",
      "text/plain": [
       "<Figure size 864x576 with 1 Axes>"
      ]
     },
     "metadata": {
      "needs_background": "light"
     },
     "output_type": "display_data"
    }
   ],
   "source": [
    "labels = ['Log. Reg.','Log. Reg. w. selected features','Decision Tree', 'Decision Tree w. selected features',\n",
    "          'Random Forest','Random Forest w. tuned hyperparameters','RF Ada boost','XGBOOST']\n",
    "mean_validation_accuracy = [0.9151,0.9174,0.8956,0.8987,0.9247,0.9273,0.9182,0.9163]\n",
    "mean_validation_F1_score = [0.9450,0.9464,0.9308,0.9332,0.9509,0.9528,0.9469,0.9452]\n",
    "\n",
    "x = np.array([0,1,2,3,4,5,6,7])  # the label locations\n",
    "width = 0.30  # the width of the bars\n",
    "\n",
    "fig, ax = plt.subplots(figsize=(12,8))\n",
    "rects1 = ax.barh(x - 0.17,mean_validation_accuracy,width,label='Mean validation accuracy',color='grey')\n",
    "rects2 = ax.barh(x + 0.17,mean_validation_F1_score,width, label='Mean validation F1 score',color='green')\n",
    "\n",
    "\n",
    "# Add some text for labels, title and custom x-axis tick labels, etc.\n",
    "ax.set_xlabel('Scores')\n",
    "ax.set_title('Scores by model')\n",
    "ax.set_yticks(x)\n",
    "ax.set_yticklabels(labels)\n",
    "ax.legend(bbox_to_anchor=(1.05, 1), loc=2, borderaxespad=0.)\n",
    "plt.xlim(xmin=0.5, xmax=1.05)\n",
    "ax.axvline(0.9273, ls='--', color='r')\n",
    "plt.text(0.93, 4.75, 'Best accuracy',color='r')\n",
    "ax.axvline(0.9528, ls='--', color='b')\n",
    "plt.text(0.96, 5, 'Best F1 score',color='b')\n",
    "\n",
    "def autolabel(rects):\n",
    "    \"\"\"Attach a text label above each bar in *rects*, displaying its height.\"\"\"\n",
    "    for rect in rects:\n",
    "        height = rect.get_height()\n",
    "        ax.annotate('{}'.format(height),\n",
    "                    xy=(rect.get_x()+0.1 , height),\n",
    "                    xytext=(0, 3),  # 4 points vertical offset\n",
    "                    textcoords=\"offset points\",\n",
    "                    ha='center', va='bottom')\n",
    "\n",
    "\n",
    "autolabel(rects1)\n",
    "autolabel(rects2)\n",
    "\n",
    "plt.show()"
   ]
  },
  {
   "cell_type": "markdown",
   "id": "resistant-municipality",
   "metadata": {},
   "source": [
    "The winner is the Random Forest model. With this model we achieved the highest mean validation accuracy and F1 score\n",
    "predicting molecule solubility."
   ]
  },
  {
   "cell_type": "markdown",
   "id": "stopped-chamber",
   "metadata": {},
   "source": [
    "## Regression"
   ]
  },
  {
   "cell_type": "markdown",
   "id": "global-reynolds",
   "metadata": {},
   "source": [
    "### Linear Regression"
   ]
  },
  {
   "cell_type": "markdown",
   "id": "domestic-lodging",
   "metadata": {},
   "source": [
    "Now we can try to use different regression models to predict the actual values of solubility in water (logS)."
   ]
  },
  {
   "cell_type": "code",
   "execution_count": 135,
   "id": "religious-timber",
   "metadata": {},
   "outputs": [],
   "source": [
    "from sklearn.metrics import mean_squared_error\n",
    "from sklearn.linear_model import LinearRegression"
   ]
  },
  {
   "cell_type": "code",
   "execution_count": 136,
   "id": "rental-trash",
   "metadata": {},
   "outputs": [],
   "source": [
    "X=data[['Molecular weight','Tmp, C','pK1','logP','f(ui)','charge','fluorine','chlorine','long_chain','double_bonds','CO','NC','pK1_NA']]\n",
    "y=data['logS']\n"
   ]
  },
  {
   "cell_type": "code",
   "execution_count": 137,
   "id": "studied-demand",
   "metadata": {},
   "outputs": [],
   "source": [
    "x_train, x_test, y_train,y_test=train_test_split(X_scaled,y,test_size=0.3,random_state=1)"
   ]
  },
  {
   "cell_type": "code",
   "execution_count": 138,
   "id": "postal-merchandise",
   "metadata": {},
   "outputs": [
    {
     "data": {
      "text/html": [
       "<style>#sk-container-id-3 {color: black;background-color: white;}#sk-container-id-3 pre{padding: 0;}#sk-container-id-3 div.sk-toggleable {background-color: white;}#sk-container-id-3 label.sk-toggleable__label {cursor: pointer;display: block;width: 100%;margin-bottom: 0;padding: 0.3em;box-sizing: border-box;text-align: center;}#sk-container-id-3 label.sk-toggleable__label-arrow:before {content: \"▸\";float: left;margin-right: 0.25em;color: #696969;}#sk-container-id-3 label.sk-toggleable__label-arrow:hover:before {color: black;}#sk-container-id-3 div.sk-estimator:hover label.sk-toggleable__label-arrow:before {color: black;}#sk-container-id-3 div.sk-toggleable__content {max-height: 0;max-width: 0;overflow: hidden;text-align: left;background-color: #f0f8ff;}#sk-container-id-3 div.sk-toggleable__content pre {margin: 0.2em;color: black;border-radius: 0.25em;background-color: #f0f8ff;}#sk-container-id-3 input.sk-toggleable__control:checked~div.sk-toggleable__content {max-height: 200px;max-width: 100%;overflow: auto;}#sk-container-id-3 input.sk-toggleable__control:checked~label.sk-toggleable__label-arrow:before {content: \"▾\";}#sk-container-id-3 div.sk-estimator input.sk-toggleable__control:checked~label.sk-toggleable__label {background-color: #d4ebff;}#sk-container-id-3 div.sk-label input.sk-toggleable__control:checked~label.sk-toggleable__label {background-color: #d4ebff;}#sk-container-id-3 input.sk-hidden--visually {border: 0;clip: rect(1px 1px 1px 1px);clip: rect(1px, 1px, 1px, 1px);height: 1px;margin: -1px;overflow: hidden;padding: 0;position: absolute;width: 1px;}#sk-container-id-3 div.sk-estimator {font-family: monospace;background-color: #f0f8ff;border: 1px dotted black;border-radius: 0.25em;box-sizing: border-box;margin-bottom: 0.5em;}#sk-container-id-3 div.sk-estimator:hover {background-color: #d4ebff;}#sk-container-id-3 div.sk-parallel-item::after {content: \"\";width: 100%;border-bottom: 1px solid gray;flex-grow: 1;}#sk-container-id-3 div.sk-label:hover label.sk-toggleable__label {background-color: #d4ebff;}#sk-container-id-3 div.sk-serial::before {content: \"\";position: absolute;border-left: 1px solid gray;box-sizing: border-box;top: 0;bottom: 0;left: 50%;z-index: 0;}#sk-container-id-3 div.sk-serial {display: flex;flex-direction: column;align-items: center;background-color: white;padding-right: 0.2em;padding-left: 0.2em;position: relative;}#sk-container-id-3 div.sk-item {position: relative;z-index: 1;}#sk-container-id-3 div.sk-parallel {display: flex;align-items: stretch;justify-content: center;background-color: white;position: relative;}#sk-container-id-3 div.sk-item::before, #sk-container-id-3 div.sk-parallel-item::before {content: \"\";position: absolute;border-left: 1px solid gray;box-sizing: border-box;top: 0;bottom: 0;left: 50%;z-index: -1;}#sk-container-id-3 div.sk-parallel-item {display: flex;flex-direction: column;z-index: 1;position: relative;background-color: white;}#sk-container-id-3 div.sk-parallel-item:first-child::after {align-self: flex-end;width: 50%;}#sk-container-id-3 div.sk-parallel-item:last-child::after {align-self: flex-start;width: 50%;}#sk-container-id-3 div.sk-parallel-item:only-child::after {width: 0;}#sk-container-id-3 div.sk-dashed-wrapped {border: 1px dashed gray;margin: 0 0.4em 0.5em 0.4em;box-sizing: border-box;padding-bottom: 0.4em;background-color: white;}#sk-container-id-3 div.sk-label label {font-family: monospace;font-weight: bold;display: inline-block;line-height: 1.2em;}#sk-container-id-3 div.sk-label-container {text-align: center;}#sk-container-id-3 div.sk-container {/* jupyter's `normalize.less` sets `[hidden] { display: none; }` but bootstrap.min.css set `[hidden] { display: none !important; }` so we also need the `!important` here to be able to override the default hidden behavior on the sphinx rendered scikit-learn.org. See: https://github.com/scikit-learn/scikit-learn/issues/21755 */display: inline-block !important;position: relative;}#sk-container-id-3 div.sk-text-repr-fallback {display: none;}</style><div id=\"sk-container-id-3\" class=\"sk-top-container\"><div class=\"sk-text-repr-fallback\"><pre>LinearRegression()</pre><b>In a Jupyter environment, please rerun this cell to show the HTML representation or trust the notebook. <br />On GitHub, the HTML representation is unable to render, please try loading this page with nbviewer.org.</b></div><div class=\"sk-container\" hidden><div class=\"sk-item\"><div class=\"sk-estimator sk-toggleable\"><input class=\"sk-toggleable__control sk-hidden--visually\" id=\"sk-estimator-id-3\" type=\"checkbox\" checked><label for=\"sk-estimator-id-3\" class=\"sk-toggleable__label sk-toggleable__label-arrow\">LinearRegression</label><div class=\"sk-toggleable__content\"><pre>LinearRegression()</pre></div></div></div></div></div>"
      ],
      "text/plain": [
       "LinearRegression()"
      ]
     },
     "execution_count": 138,
     "metadata": {},
     "output_type": "execute_result"
    }
   ],
   "source": [
    "linreg = LinearRegression()\n",
    "linreg.fit(x_train, y_train)"
   ]
  },
  {
   "cell_type": "code",
   "execution_count": 139,
   "id": "damaged-somerset",
   "metadata": {},
   "outputs": [],
   "source": [
    "pred=linreg.predict(x_test)"
   ]
  },
  {
   "cell_type": "code",
   "execution_count": 140,
   "id": "eastern-syracuse",
   "metadata": {},
   "outputs": [
    {
     "name": "stdout",
     "output_type": "stream",
     "text": [
      "RMSE: 0.921107775978968\n"
     ]
    }
   ],
   "source": [
    "print('RMSE:',np.sqrt(mean_squared_error(pred,y_test)))"
   ]
  },
  {
   "cell_type": "markdown",
   "id": "little-stack",
   "metadata": {},
   "source": [
    "### Decision Tree "
   ]
  },
  {
   "cell_type": "code",
   "execution_count": 141,
   "id": "sporting-joshua",
   "metadata": {},
   "outputs": [
    {
     "data": {
      "text/html": [
       "<style>#sk-container-id-4 {color: black;background-color: white;}#sk-container-id-4 pre{padding: 0;}#sk-container-id-4 div.sk-toggleable {background-color: white;}#sk-container-id-4 label.sk-toggleable__label {cursor: pointer;display: block;width: 100%;margin-bottom: 0;padding: 0.3em;box-sizing: border-box;text-align: center;}#sk-container-id-4 label.sk-toggleable__label-arrow:before {content: \"▸\";float: left;margin-right: 0.25em;color: #696969;}#sk-container-id-4 label.sk-toggleable__label-arrow:hover:before {color: black;}#sk-container-id-4 div.sk-estimator:hover label.sk-toggleable__label-arrow:before {color: black;}#sk-container-id-4 div.sk-toggleable__content {max-height: 0;max-width: 0;overflow: hidden;text-align: left;background-color: #f0f8ff;}#sk-container-id-4 div.sk-toggleable__content pre {margin: 0.2em;color: black;border-radius: 0.25em;background-color: #f0f8ff;}#sk-container-id-4 input.sk-toggleable__control:checked~div.sk-toggleable__content {max-height: 200px;max-width: 100%;overflow: auto;}#sk-container-id-4 input.sk-toggleable__control:checked~label.sk-toggleable__label-arrow:before {content: \"▾\";}#sk-container-id-4 div.sk-estimator input.sk-toggleable__control:checked~label.sk-toggleable__label {background-color: #d4ebff;}#sk-container-id-4 div.sk-label input.sk-toggleable__control:checked~label.sk-toggleable__label {background-color: #d4ebff;}#sk-container-id-4 input.sk-hidden--visually {border: 0;clip: rect(1px 1px 1px 1px);clip: rect(1px, 1px, 1px, 1px);height: 1px;margin: -1px;overflow: hidden;padding: 0;position: absolute;width: 1px;}#sk-container-id-4 div.sk-estimator {font-family: monospace;background-color: #f0f8ff;border: 1px dotted black;border-radius: 0.25em;box-sizing: border-box;margin-bottom: 0.5em;}#sk-container-id-4 div.sk-estimator:hover {background-color: #d4ebff;}#sk-container-id-4 div.sk-parallel-item::after {content: \"\";width: 100%;border-bottom: 1px solid gray;flex-grow: 1;}#sk-container-id-4 div.sk-label:hover label.sk-toggleable__label {background-color: #d4ebff;}#sk-container-id-4 div.sk-serial::before {content: \"\";position: absolute;border-left: 1px solid gray;box-sizing: border-box;top: 0;bottom: 0;left: 50%;z-index: 0;}#sk-container-id-4 div.sk-serial {display: flex;flex-direction: column;align-items: center;background-color: white;padding-right: 0.2em;padding-left: 0.2em;position: relative;}#sk-container-id-4 div.sk-item {position: relative;z-index: 1;}#sk-container-id-4 div.sk-parallel {display: flex;align-items: stretch;justify-content: center;background-color: white;position: relative;}#sk-container-id-4 div.sk-item::before, #sk-container-id-4 div.sk-parallel-item::before {content: \"\";position: absolute;border-left: 1px solid gray;box-sizing: border-box;top: 0;bottom: 0;left: 50%;z-index: -1;}#sk-container-id-4 div.sk-parallel-item {display: flex;flex-direction: column;z-index: 1;position: relative;background-color: white;}#sk-container-id-4 div.sk-parallel-item:first-child::after {align-self: flex-end;width: 50%;}#sk-container-id-4 div.sk-parallel-item:last-child::after {align-self: flex-start;width: 50%;}#sk-container-id-4 div.sk-parallel-item:only-child::after {width: 0;}#sk-container-id-4 div.sk-dashed-wrapped {border: 1px dashed gray;margin: 0 0.4em 0.5em 0.4em;box-sizing: border-box;padding-bottom: 0.4em;background-color: white;}#sk-container-id-4 div.sk-label label {font-family: monospace;font-weight: bold;display: inline-block;line-height: 1.2em;}#sk-container-id-4 div.sk-label-container {text-align: center;}#sk-container-id-4 div.sk-container {/* jupyter's `normalize.less` sets `[hidden] { display: none; }` but bootstrap.min.css set `[hidden] { display: none !important; }` so we also need the `!important` here to be able to override the default hidden behavior on the sphinx rendered scikit-learn.org. See: https://github.com/scikit-learn/scikit-learn/issues/21755 */display: inline-block !important;position: relative;}#sk-container-id-4 div.sk-text-repr-fallback {display: none;}</style><div id=\"sk-container-id-4\" class=\"sk-top-container\"><div class=\"sk-text-repr-fallback\"><pre>DecisionTreeRegressor()</pre><b>In a Jupyter environment, please rerun this cell to show the HTML representation or trust the notebook. <br />On GitHub, the HTML representation is unable to render, please try loading this page with nbviewer.org.</b></div><div class=\"sk-container\" hidden><div class=\"sk-item\"><div class=\"sk-estimator sk-toggleable\"><input class=\"sk-toggleable__control sk-hidden--visually\" id=\"sk-estimator-id-4\" type=\"checkbox\" checked><label for=\"sk-estimator-id-4\" class=\"sk-toggleable__label sk-toggleable__label-arrow\">DecisionTreeRegressor</label><div class=\"sk-toggleable__content\"><pre>DecisionTreeRegressor()</pre></div></div></div></div></div>"
      ],
      "text/plain": [
       "DecisionTreeRegressor()"
      ]
     },
     "execution_count": 141,
     "metadata": {},
     "output_type": "execute_result"
    }
   ],
   "source": [
    "x_train, x_test, y_train,y_test=train_test_split(X,y,test_size=0.3,random_state=1)\n",
    "dt=tree.DecisionTreeRegressor()\n",
    "dt.fit(x_train, y_train)\n"
   ]
  },
  {
   "cell_type": "code",
   "execution_count": 142,
   "id": "documented-integral",
   "metadata": {},
   "outputs": [
    {
     "name": "stdout",
     "output_type": "stream",
     "text": [
      "RMSE: 1.2055245633341605\n"
     ]
    }
   ],
   "source": [
    "pred=dt.predict(x_test)\n",
    "print('RMSE:',np.sqrt(mean_squared_error(pred,y_test)))"
   ]
  },
  {
   "cell_type": "markdown",
   "id": "golden-cassette",
   "metadata": {},
   "source": [
    "### Random Forest"
   ]
  },
  {
   "cell_type": "code",
   "execution_count": 143,
   "id": "united-surface",
   "metadata": {},
   "outputs": [
    {
     "data": {
      "text/html": [
       "<style>#sk-container-id-5 {color: black;background-color: white;}#sk-container-id-5 pre{padding: 0;}#sk-container-id-5 div.sk-toggleable {background-color: white;}#sk-container-id-5 label.sk-toggleable__label {cursor: pointer;display: block;width: 100%;margin-bottom: 0;padding: 0.3em;box-sizing: border-box;text-align: center;}#sk-container-id-5 label.sk-toggleable__label-arrow:before {content: \"▸\";float: left;margin-right: 0.25em;color: #696969;}#sk-container-id-5 label.sk-toggleable__label-arrow:hover:before {color: black;}#sk-container-id-5 div.sk-estimator:hover label.sk-toggleable__label-arrow:before {color: black;}#sk-container-id-5 div.sk-toggleable__content {max-height: 0;max-width: 0;overflow: hidden;text-align: left;background-color: #f0f8ff;}#sk-container-id-5 div.sk-toggleable__content pre {margin: 0.2em;color: black;border-radius: 0.25em;background-color: #f0f8ff;}#sk-container-id-5 input.sk-toggleable__control:checked~div.sk-toggleable__content {max-height: 200px;max-width: 100%;overflow: auto;}#sk-container-id-5 input.sk-toggleable__control:checked~label.sk-toggleable__label-arrow:before {content: \"▾\";}#sk-container-id-5 div.sk-estimator input.sk-toggleable__control:checked~label.sk-toggleable__label {background-color: #d4ebff;}#sk-container-id-5 div.sk-label input.sk-toggleable__control:checked~label.sk-toggleable__label {background-color: #d4ebff;}#sk-container-id-5 input.sk-hidden--visually {border: 0;clip: rect(1px 1px 1px 1px);clip: rect(1px, 1px, 1px, 1px);height: 1px;margin: -1px;overflow: hidden;padding: 0;position: absolute;width: 1px;}#sk-container-id-5 div.sk-estimator {font-family: monospace;background-color: #f0f8ff;border: 1px dotted black;border-radius: 0.25em;box-sizing: border-box;margin-bottom: 0.5em;}#sk-container-id-5 div.sk-estimator:hover {background-color: #d4ebff;}#sk-container-id-5 div.sk-parallel-item::after {content: \"\";width: 100%;border-bottom: 1px solid gray;flex-grow: 1;}#sk-container-id-5 div.sk-label:hover label.sk-toggleable__label {background-color: #d4ebff;}#sk-container-id-5 div.sk-serial::before {content: \"\";position: absolute;border-left: 1px solid gray;box-sizing: border-box;top: 0;bottom: 0;left: 50%;z-index: 0;}#sk-container-id-5 div.sk-serial {display: flex;flex-direction: column;align-items: center;background-color: white;padding-right: 0.2em;padding-left: 0.2em;position: relative;}#sk-container-id-5 div.sk-item {position: relative;z-index: 1;}#sk-container-id-5 div.sk-parallel {display: flex;align-items: stretch;justify-content: center;background-color: white;position: relative;}#sk-container-id-5 div.sk-item::before, #sk-container-id-5 div.sk-parallel-item::before {content: \"\";position: absolute;border-left: 1px solid gray;box-sizing: border-box;top: 0;bottom: 0;left: 50%;z-index: -1;}#sk-container-id-5 div.sk-parallel-item {display: flex;flex-direction: column;z-index: 1;position: relative;background-color: white;}#sk-container-id-5 div.sk-parallel-item:first-child::after {align-self: flex-end;width: 50%;}#sk-container-id-5 div.sk-parallel-item:last-child::after {align-self: flex-start;width: 50%;}#sk-container-id-5 div.sk-parallel-item:only-child::after {width: 0;}#sk-container-id-5 div.sk-dashed-wrapped {border: 1px dashed gray;margin: 0 0.4em 0.5em 0.4em;box-sizing: border-box;padding-bottom: 0.4em;background-color: white;}#sk-container-id-5 div.sk-label label {font-family: monospace;font-weight: bold;display: inline-block;line-height: 1.2em;}#sk-container-id-5 div.sk-label-container {text-align: center;}#sk-container-id-5 div.sk-container {/* jupyter's `normalize.less` sets `[hidden] { display: none; }` but bootstrap.min.css set `[hidden] { display: none !important; }` so we also need the `!important` here to be able to override the default hidden behavior on the sphinx rendered scikit-learn.org. See: https://github.com/scikit-learn/scikit-learn/issues/21755 */display: inline-block !important;position: relative;}#sk-container-id-5 div.sk-text-repr-fallback {display: none;}</style><div id=\"sk-container-id-5\" class=\"sk-top-container\"><div class=\"sk-text-repr-fallback\"><pre>RandomForestRegressor()</pre><b>In a Jupyter environment, please rerun this cell to show the HTML representation or trust the notebook. <br />On GitHub, the HTML representation is unable to render, please try loading this page with nbviewer.org.</b></div><div class=\"sk-container\" hidden><div class=\"sk-item\"><div class=\"sk-estimator sk-toggleable\"><input class=\"sk-toggleable__control sk-hidden--visually\" id=\"sk-estimator-id-5\" type=\"checkbox\" checked><label for=\"sk-estimator-id-5\" class=\"sk-toggleable__label sk-toggleable__label-arrow\">RandomForestRegressor</label><div class=\"sk-toggleable__content\"><pre>RandomForestRegressor()</pre></div></div></div></div></div>"
      ],
      "text/plain": [
       "RandomForestRegressor()"
      ]
     },
     "execution_count": 143,
     "metadata": {},
     "output_type": "execute_result"
    }
   ],
   "source": [
    "from sklearn.ensemble import RandomForestRegressor\n",
    "rf=RandomForestRegressor()\n",
    "rf.fit(x_train, y_train)"
   ]
  },
  {
   "cell_type": "code",
   "execution_count": 144,
   "id": "european-albania",
   "metadata": {},
   "outputs": [
    {
     "name": "stdout",
     "output_type": "stream",
     "text": [
      "RMSE: 0.8274827719960124\n"
     ]
    }
   ],
   "source": [
    "pred=rf.predict(x_test)\n",
    "print('RMSE:',np.sqrt(mean_squared_error(pred,y_test)))"
   ]
  },
  {
   "cell_type": "code",
   "execution_count": 145,
   "id": "central-greenhouse",
   "metadata": {},
   "outputs": [
    {
     "ename": "NameError",
     "evalue": "name 'GridSearchCV' is not defined",
     "output_type": "error",
     "traceback": [
      "\u001b[1;31m---------------------------------------------------------------------------\u001b[0m",
      "\u001b[1;31mNameError\u001b[0m                                 Traceback (most recent call last)",
      "\u001b[1;32m<ipython-input-145-7dd55c9e796c>\u001b[0m in \u001b[0;36m<module>\u001b[1;34m\u001b[0m\n\u001b[1;32m----> 1\u001b[1;33m \u001b[0mgrid_search\u001b[0m\u001b[1;33m=\u001b[0m\u001b[0mGridSearchCV\u001b[0m\u001b[1;33m(\u001b[0m\u001b[0mRandomForestRegressor\u001b[0m\u001b[1;33m(\u001b[0m\u001b[0mrandom_state\u001b[0m\u001b[1;33m=\u001b[0m\u001b[1;36m1\u001b[0m\u001b[1;33m)\u001b[0m\u001b[1;33m,\u001b[0m\u001b[0mparamgrid\u001b[0m\u001b[1;33m)\u001b[0m\u001b[1;33m\u001b[0m\u001b[1;33m\u001b[0m\u001b[0m\n\u001b[0m\u001b[0;32m      2\u001b[0m \u001b[1;31m# Fit the grid search model\u001b[0m\u001b[1;33m\u001b[0m\u001b[1;33m\u001b[0m\u001b[1;33m\u001b[0m\u001b[0m\n\u001b[0;32m      3\u001b[0m \u001b[0mgrid_search\u001b[0m\u001b[1;33m.\u001b[0m\u001b[0mfit\u001b[0m\u001b[1;33m(\u001b[0m\u001b[0mx_train\u001b[0m\u001b[1;33m,\u001b[0m\u001b[0my_train\u001b[0m\u001b[1;33m)\u001b[0m\u001b[1;33m\u001b[0m\u001b[1;33m\u001b[0m\u001b[0m\n\u001b[0;32m      4\u001b[0m \u001b[0mgrid_search\u001b[0m\u001b[1;33m.\u001b[0m\u001b[0mbest_estimator_\u001b[0m\u001b[1;33m\u001b[0m\u001b[1;33m\u001b[0m\u001b[0m\n",
      "\u001b[1;31mNameError\u001b[0m: name 'GridSearchCV' is not defined"
     ]
    }
   ],
   "source": [
    "grid_search=GridSearchCV(RandomForestRegressor(random_state=1),paramgrid)\n",
    "# Fit the grid search model\n",
    "grid_search.fit(x_train,y_train)\n",
    "grid_search.best_estimator_"
   ]
  },
  {
   "cell_type": "code",
   "execution_count": null,
   "id": "ordinary-fleet",
   "metadata": {},
   "outputs": [],
   "source": [
    "rf_tuned=RandomForestRegressor(max_depth=23, n_estimators=281, random_state=1)\n",
    "rf_tuned.fit(x_train, y_train)"
   ]
  },
  {
   "cell_type": "code",
   "execution_count": null,
   "id": "august-chicken",
   "metadata": {},
   "outputs": [],
   "source": [
    "pred=rf_tuned.predict(x_test)\n",
    "print('RMSE:',np.sqrt(mean_squared_error(pred,y_test)))"
   ]
  },
  {
   "cell_type": "markdown",
   "id": "separate-fabric",
   "metadata": {},
   "source": [
    "### XGBoost"
   ]
  },
  {
   "cell_type": "code",
   "execution_count": null,
   "id": "entitled-future",
   "metadata": {},
   "outputs": [],
   "source": [
    "from xgboost import XGBRegressor\n",
    "xgb=XGBRegressor()\n",
    "xgb.fit(x_train, y_train)"
   ]
  },
  {
   "cell_type": "code",
   "execution_count": null,
   "id": "fuzzy-section",
   "metadata": {},
   "outputs": [],
   "source": [
    "pred=xgb.predict(x_test)\n",
    "print('RMSE:',np.sqrt(mean_squared_error(pred,y_test)))"
   ]
  },
  {
   "cell_type": "code",
   "execution_count": null,
   "id": "patent-reasoning",
   "metadata": {},
   "outputs": [],
   "source": [
    "grid_search=GridSearchCV(XGBRegressor(random_state=1),paramgrid)\n",
    "# Fit the grid search model\n",
    "grid_search.fit(x_train,y_train)\n",
    "grid_search.best_estimator_"
   ]
  },
  {
   "cell_type": "code",
   "execution_count": null,
   "id": "imperial-still",
   "metadata": {},
   "outputs": [],
   "source": [
    "xgb_tuned=XGBRegressor(base_score=0.5, booster='gbtree', callbacks=None,\n",
    "             colsample_bylevel=1, colsample_bynode=1, colsample_bytree=1,\n",
    "             early_stopping_rounds=None, enable_categorical=False,\n",
    "             eval_metric=None, gamma=0, gpu_id=-1, grow_policy='depthwise',\n",
    "             importance_type=None, interaction_constraints='',\n",
    "             learning_rate=0.300000012, max_bin=256, max_cat_to_onehot=4,\n",
    "             max_delta_step=0, max_depth=3, max_leaves=0, min_child_weight=1,\n",
    "             monotone_constraints='()', n_estimators=81, n_jobs=0,\n",
    "             num_parallel_tree=1, predictor='auto', random_state=1, reg_alpha=0,\n",
    "             reg_lambda=1)\n",
    "xgb_tuned.fit(x_train, y_train)"
   ]
  },
  {
   "cell_type": "code",
   "execution_count": null,
   "id": "bearing-latvia",
   "metadata": {},
   "outputs": [],
   "source": [
    "pred=xgb_tuned.predict(x_test)\n",
    "print('RMSE:',np.sqrt(mean_squared_error(pred,y_test)))"
   ]
  },
  {
   "cell_type": "markdown",
   "id": "wired-return",
   "metadata": {},
   "source": [
    "Considering the RMSE values obtained on the test data, we can conclude that the best model for the problem of predicting\n",
    "solubility values based on other physiochemical properties of organic molecules is the tuned Random Forest Regressor model."
   ]
  }
 ],
 "metadata": {
  "kernelspec": {
   "display_name": "Python 3",
   "language": "python",
   "name": "python3"
  },
  "language_info": {
   "codemirror_mode": {
    "name": "ipython",
    "version": 3
   },
   "file_extension": ".py",
   "mimetype": "text/x-python",
   "name": "python",
   "nbconvert_exporter": "python",
   "pygments_lexer": "ipython3",
   "version": "3.9.2"
  }
 },
 "nbformat": 4,
 "nbformat_minor": 5
}
