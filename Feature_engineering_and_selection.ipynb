{
 "cells": [
  {
   "cell_type": "markdown",
   "id": "lovely-technology",
   "metadata": {},
   "source": [
    "# Solubility prediction for organic chemicals"
   ]
  },
  {
   "cell_type": "markdown",
   "id": "involved-cologne",
   "metadata": {},
   "source": [
    "Aqueous solubility is one of the key parameters defining a molecular drug activity.\n",
    "\n",
    "In this notebook, we will develop models to predict the solubility of organic molecules in water based on their physiochemical\n",
    "properties. "
   ]
  },
  {
   "cell_type": "code",
   "execution_count": 1,
   "id": "amended-registration",
   "metadata": {},
   "outputs": [],
   "source": [
    "# Import packages\n",
    "import numpy as np\n",
    "import pandas as pd\n",
    "import matplotlib.pyplot as plt\n",
    "%matplotlib inline\n",
    "import seaborn as sns\n",
    "\n",
    "import warnings\n",
    "warnings.filterwarnings('ignore')"
   ]
  },
  {
   "cell_type": "markdown",
   "id": "after-government",
   "metadata": {},
   "source": [
    "In this notebook we will work with the data that we cleaned in the 'solubility.ipynb' notebook.\n",
    "\n",
    "Let's take a look at the data."
   ]
  },
  {
   "cell_type": "code",
   "execution_count": 6,
   "id": "prompt-pierre",
   "metadata": {},
   "outputs": [],
   "source": [
    "data=pd.read_csv('data_cleaned.csv')"
   ]
  },
  {
   "cell_type": "code",
   "execution_count": 7,
   "id": "pending-sussex",
   "metadata": {},
   "outputs": [
    {
     "data": {
      "text/html": [
       "<div>\n",
       "<style scoped>\n",
       "    .dataframe tbody tr th:only-of-type {\n",
       "        vertical-align: middle;\n",
       "    }\n",
       "\n",
       "    .dataframe tbody tr th {\n",
       "        vertical-align: top;\n",
       "    }\n",
       "\n",
       "    .dataframe thead th {\n",
       "        text-align: right;\n",
       "    }\n",
       "</style>\n",
       "<table border=\"1\" class=\"dataframe\">\n",
       "  <thead>\n",
       "    <tr style=\"text-align: right;\">\n",
       "      <th></th>\n",
       "      <th>Formula</th>\n",
       "      <th>name</th>\n",
       "      <th>Molecular weight</th>\n",
       "      <th>Tmp, C</th>\n",
       "      <th>pK1</th>\n",
       "      <th>f(ui)</th>\n",
       "      <th>logP</th>\n",
       "      <th>alpha</th>\n",
       "      <th>soluble</th>\n",
       "      <th>pK1_NA</th>\n",
       "    </tr>\n",
       "  </thead>\n",
       "  <tbody>\n",
       "    <tr>\n",
       "      <th>0</th>\n",
       "      <td>CC(C)(C)CO</td>\n",
       "      <td>NEOPENTYL  ALCOHOL;  2,2-DIMETHYL-1-PROPANOL</td>\n",
       "      <td>88.150</td>\n",
       "      <td>56.0</td>\n",
       "      <td>-3.66</td>\n",
       "      <td>1.0</td>\n",
       "      <td>1.108</td>\n",
       "      <td>10.586</td>\n",
       "      <td>1</td>\n",
       "      <td>1</td>\n",
       "    </tr>\n",
       "    <tr>\n",
       "      <th>1</th>\n",
       "      <td>CN=C=S</td>\n",
       "      <td>METHYL  ISOTHIOCYANATE</td>\n",
       "      <td>73.119</td>\n",
       "      <td>35.0</td>\n",
       "      <td>-3.66</td>\n",
       "      <td>1.0</td>\n",
       "      <td>1.013</td>\n",
       "      <td>8.352</td>\n",
       "      <td>1</td>\n",
       "      <td>1</td>\n",
       "    </tr>\n",
       "    <tr>\n",
       "      <th>2</th>\n",
       "      <td>C1OCOCO1</td>\n",
       "      <td>1,3,5-TRIOXANE</td>\n",
       "      <td>90.079</td>\n",
       "      <td>64.0</td>\n",
       "      <td>-3.66</td>\n",
       "      <td>1.0</td>\n",
       "      <td>-0.446</td>\n",
       "      <td>7.416</td>\n",
       "      <td>1</td>\n",
       "      <td>1</td>\n",
       "    </tr>\n",
       "    <tr>\n",
       "      <th>3</th>\n",
       "      <td>CC(N)=O</td>\n",
       "      <td>ACETAMIDE</td>\n",
       "      <td>59.068</td>\n",
       "      <td>80.0</td>\n",
       "      <td>-3.66</td>\n",
       "      <td>1.0</td>\n",
       "      <td>-0.832</td>\n",
       "      <td>6.075</td>\n",
       "      <td>1</td>\n",
       "      <td>1</td>\n",
       "    </tr>\n",
       "    <tr>\n",
       "      <th>4</th>\n",
       "      <td>CC(O)CNCC(C)O</td>\n",
       "      <td>BIS(2-HYDROXYPROPYL)AMINE</td>\n",
       "      <td>133.191</td>\n",
       "      <td>44.5</td>\n",
       "      <td>8.97</td>\n",
       "      <td>1.0</td>\n",
       "      <td>-0.540</td>\n",
       "      <td>14.409</td>\n",
       "      <td>1</td>\n",
       "      <td>0</td>\n",
       "    </tr>\n",
       "  </tbody>\n",
       "</table>\n",
       "</div>"
      ],
      "text/plain": [
       "         Formula                                          name  \\\n",
       "0     CC(C)(C)CO  NEOPENTYL  ALCOHOL;  2,2-DIMETHYL-1-PROPANOL   \n",
       "1         CN=C=S                        METHYL  ISOTHIOCYANATE   \n",
       "2       C1OCOCO1                                1,3,5-TRIOXANE   \n",
       "3        CC(N)=O                                     ACETAMIDE   \n",
       "4  CC(O)CNCC(C)O                     BIS(2-HYDROXYPROPYL)AMINE   \n",
       "\n",
       "   Molecular weight  Tmp, C   pK1  f(ui)   logP   alpha  soluble  pK1_NA  \n",
       "0            88.150    56.0 -3.66    1.0  1.108  10.586        1       1  \n",
       "1            73.119    35.0 -3.66    1.0  1.013   8.352        1       1  \n",
       "2            90.079    64.0 -3.66    1.0 -0.446   7.416        1       1  \n",
       "3            59.068    80.0 -3.66    1.0 -0.832   6.075        1       1  \n",
       "4           133.191    44.5  8.97    1.0 -0.540  14.409        1       0  "
      ]
     },
     "execution_count": 7,
     "metadata": {},
     "output_type": "execute_result"
    }
   ],
   "source": [
    "data.head()"
   ]
  },
  {
   "cell_type": "markdown",
   "id": "engaging-scanner",
   "metadata": {},
   "source": [
    "The cleaned data contains the following columns:\n",
    "    \n",
    "   **Formula**  contains a Simplified Molecular Input Line Entry System,” which is used to translate a\\\n",
    "   chemical's three-    dimensional structure into a string of symbols;\\\n",
    "   **name** is the IUPAC name of the compound;\\\n",
    "   **Molecular wight** contains molecular weight of a molecule;\\\n",
    "   **Tmp, C** is the temperature of the melting point of a substance;\\\n",
    "   **logP** is the value of octanol–water partition coefficient;\\\n",
    "   **f(ui)** - fraction un-ionized;\\\n",
    "   **pK1** is the negative log_10 of corresponding constants of dissociation;\\\n",
    "   **alpha** -molecular polarizability (the tendency of a molecule to aquire electric dipole moment when subjected to an electric field;\\\n",
    "   **soluble** is the target variable wich equals 1 for soluble molecules and 0 for unsoluble molecules. This parameter was\n",
    "   generated using the criterion of solubility according to which log(molar solubility) is greater than -5 for molecules\n",
    "   soluble in water;\\\n",
    "   **pK1_NA** is the parameter that we generated which is equals 1 for molecules that originally had NA in dissociacion   constant value, and it equals 0 when the molecule had a dissociation contant value"
   ]
  },
  {
   "cell_type": "markdown",
   "id": "awful-snake",
   "metadata": {},
   "source": [
    "## Solubility vs. physiochemical properties"
   ]
  },
  {
   "cell_type": "code",
   "execution_count": 107,
   "id": "oriented-resort",
   "metadata": {},
   "outputs": [
    {
     "data": {
      "text/plain": [
       "1    1980\n",
       "0     635\n",
       "Name: soluble, dtype: int64"
      ]
     },
     "execution_count": 107,
     "metadata": {},
     "output_type": "execute_result"
    }
   ],
   "source": [
    "data.soluble.value_counts()"
   ]
  },
  {
   "cell_type": "markdown",
   "id": "focal-showcase",
   "metadata": {},
   "source": [
    "**Hypothesis statement**\n",
    "\n",
    "We can make several hypothesis about the relationship between certain physiochemical qualities of a substance with\n",
    "the substance solubility in water. For example:\n",
    "    \n",
    "1.There should be a relationship between the octanol-water partinioning coefficient (**P**) and the solubility of a substance.\n",
    "  Because one can assume that the higher is the solubility in water, the higher fraction of a sabstance would be in water\n",
    "  rather than in organic octanol. And the higher the fraction in octanol the lower should be the solubility in water.\n",
    "  So the higher is the partitioning coefficient the lower is the solubility.\n",
    "  \n",
    "2.A volume-related term (molecular polarizability **alpha**) was experimentally found to have an essential negative contribution \n",
    "  to solubility. The lower polarizability the higher solubility in polar water.\n",
    " \n",
    "3.Water is a polar solvent so one can assume that the higher unionized fraction **f(ui)** the lower solubility in polar \n",
    "   water   solvent\n",
    "\n",
    "4.One can also assume that the higher **molecular weight** the lower solubility because it is more difficult for a large molecule\n",
    "  to dissolve.\n",
    "\n",
    "5.The higher dissociation constants (lower **pK1** values) the higher solubility. Also, missing value of dissociation \n",
    "contant (**pK1_NA**) can mean that they had not been measured because of insolubility of the molecules.\n",
    "    "
   ]
  },
  {
   "cell_type": "markdown",
   "id": "elegant-greenhouse",
   "metadata": {},
   "source": [
    "## Additional feature engineering"
   ]
  },
  {
   "cell_type": "markdown",
   "id": "bright-ticket",
   "metadata": {},
   "source": [
    "Physical and chemical properties of molecules are generally defined by their chemical structure.\n",
    "\n",
    "In our dataframe, the column **Formula** contains information about the chemical structure of the molecules.\n",
    "Hence, we can use the information about chemical structure to\n",
    "engineer new features that can affect aqueous solubility of a molecule, based on general knowledge of Chemistry.\n",
    "\n",
    "Let's try to do this."
   ]
  },
  {
   "cell_type": "markdown",
   "id": "comparable-career",
   "metadata": {},
   "source": [
    "### Charge"
   ]
  },
  {
   "cell_type": "markdown",
   "id": "narrow-desktop",
   "metadata": {},
   "source": [
    "One can assume that charged molcules should have higher solubility in water since water is a polar sovent.\n",
    "Charged molecules contain regions with positive charge and an equal amount of negatively charged regions in order to\n",
    "resulting charge to be 0."
   ]
  },
  {
   "cell_type": "code",
   "execution_count": 8,
   "id": "english-hypothetical",
   "metadata": {},
   "outputs": [
    {
     "name": "stdout",
     "output_type": "stream",
     "text": [
      "The number of charged and uncharged molecules:\n",
      "0    2430\n",
      "1     185\n",
      "Name: charge, dtype: int64\n"
     ]
    },
    {
     "data": {
      "text/plain": [
       "<AxesSubplot:xlabel='charge'>"
      ]
     },
     "execution_count": 8,
     "metadata": {},
     "output_type": "execute_result"
    },
    {
     "data": {
      "image/png": "[encoded data removed]",
      "text/plain": [
       "<Figure size 288x288 with 1 Axes>"
      ]
     },
     "metadata": {
      "needs_background": "light"
     },
     "output_type": "display_data"
    }
   ],
   "source": [
    "charge=[]\n",
    "\n",
    "for i in range(2615):\n",
    "    if data['Formula'][i].find('+')!=-1:\n",
    "        charge.append(1)\n",
    "    else:\n",
    "        charge.append(0)\n",
    "data['charge']=charge\n",
    "print('The number of charged and uncharged molecules:')\n",
    "print(data['charge'].value_counts())\n",
    "\n",
    "charge=pd.crosstab(data['charge'],data['soluble'])\n",
    "charge.div(charge.sum(1).astype(float),axis=0).plot(kind='bar',stacked=True, figsize=(4,4))"
   ]
  },
  {
   "cell_type": "markdown",
   "id": "architectural-halloween",
   "metadata": {},
   "source": [
    "From the barplot we can infer that the proportion of soluble molecules is only slightly higher within charged molecules\n",
    "as compared to uncharged molecules."
   ]
  },
  {
   "cell_type": "markdown",
   "id": "desirable-peace",
   "metadata": {},
   "source": [
    "### Long carbon chain"
   ]
  },
  {
   "cell_type": "code",
   "execution_count": 9,
   "id": "present-difference",
   "metadata": {},
   "outputs": [
    {
     "data": {
      "image/png": "[encoded data removed]",
      "text/plain": [
       "<Figure size 288x288 with 1 Axes>"
      ]
     },
     "metadata": {
      "needs_background": "light"
     },
     "output_type": "display_data"
    }
   ],
   "source": [
    "long_chain=[]\n",
    "for i in range(2615):\n",
    "    if data['Formula'][i].count('C')>12:\n",
    "        long_chain.append(1)\n",
    "    else:\n",
    "        long_chain.append(0)\n",
    "        \n",
    "data['long_chain']=long_chain\n",
    "\n",
    "long_chain=pd.crosstab(data['long_chain'],data['soluble'])\n",
    "long_chain.div(long_chain.sum(1).astype(float),axis=0).plot(kind='bar',stacked=True, figsize=(4,4))\n",
    "plt.show()"
   ]
  },
  {
   "cell_type": "markdown",
   "id": "brief-diploma",
   "metadata": {},
   "source": [
    "We can infer that the proportion of soluble molecules is lower among molecules with molecules containing long carbon chains."
   ]
  },
  {
   "cell_type": "markdown",
   "id": "about-sleep",
   "metadata": {},
   "source": [
    "### Double bonds"
   ]
  },
  {
   "cell_type": "code",
   "execution_count": 10,
   "id": "bottom-inquiry",
   "metadata": {},
   "outputs": [
    {
     "data": {
      "image/png": "[encoded data removed]",
      "text/plain": [
       "<Figure size 288x288 with 1 Axes>"
      ]
     },
     "metadata": {
      "needs_background": "light"
     },
     "output_type": "display_data"
    }
   ],
   "source": [
    "double_bonds=[]\n",
    "\n",
    "for i in range(2615):\n",
    "    if data['Formula'][i].count('=')>4:\n",
    "        double_bonds.append(1)\n",
    "    else:\n",
    "        double_bonds.append(0)\n",
    "        \n",
    "data['double_bonds']=double_bonds\n",
    "\n",
    "double_bonds=pd.crosstab(data['double_bonds'],data['soluble'])\n",
    "double_bonds.div(double_bonds.sum(1).astype(float),axis=0).plot(kind='bar',stacked=True, figsize=(4,4))\n",
    "plt.show()"
   ]
  },
  {
   "cell_type": "markdown",
   "id": "vulnerable-product",
   "metadata": {},
   "source": [
    "### Hydrogen bond acceptors"
   ]
  },
  {
   "cell_type": "markdown",
   "id": "tender-courtesy",
   "metadata": {},
   "source": [
    "It has been seen that the presence of the hydrogen bond acceptors like (CO, O, F, Cl etc.) has a negative impact on the\n",
    "substance solubility in water. Let us generate features that reflect the presence of different hydrogen bond acceptors \n",
    "in molecules."
   ]
  },
  {
   "cell_type": "markdown",
   "id": "steady-cylinder",
   "metadata": {},
   "source": [
    "### Chlorine"
   ]
  },
  {
   "cell_type": "code",
   "execution_count": 11,
   "id": "confused-cooling",
   "metadata": {},
   "outputs": [
    {
     "data": {
      "image/png": "[encoded data removed]",
      "text/plain": [
       "<Figure size 288x288 with 1 Axes>"
      ]
     },
     "metadata": {
      "needs_background": "light"
     },
     "output_type": "display_data"
    }
   ],
   "source": [
    "chlorine=[]\n",
    "\n",
    "for i in range(2615):\n",
    "    if data['Formula'][i].count('Cl')>2:\n",
    "        chlorine.append(1)\n",
    "    else:\n",
    "        chlorine.append(0)\n",
    "        \n",
    "data['chlorine']=chlorine\n",
    "\n",
    "chlorine=pd.crosstab(data['chlorine'],data['soluble'])\n",
    "chlorine.div(chlorine.sum(1).astype(float),axis=0).plot(kind='bar',stacked=True, figsize=(4,4))\n",
    "plt.show()"
   ]
  },
  {
   "cell_type": "markdown",
   "id": "varied-reaction",
   "metadata": {},
   "source": [
    "### Fluorine"
   ]
  },
  {
   "cell_type": "code",
   "execution_count": 38,
   "id": "sexual-sympathy",
   "metadata": {},
   "outputs": [
    {
     "data": {
      "image/png": "[encoded data removed]",
      "text/plain": [
       "<Figure size 288x288 with 1 Axes>"
      ]
     },
     "metadata": {
      "needs_background": "light"
     },
     "output_type": "display_data"
    }
   ],
   "source": [
    "fluorine=[]\n",
    "\n",
    "for i in range(2615):\n",
    "    if data['Formula'][i].count('F')>2:\n",
    "        fluorine.append(1)\n",
    "    else:\n",
    "        fluorine.append(0)\n",
    "        \n",
    "data['fluorine']=fluorine\n",
    "\n",
    "fluorine=pd.crosstab(data['fluorine'],data['soluble'])\n",
    "fluorine.div(fluorine.sum(1).astype(float),axis=0).plot(kind='bar',stacked=True, figsize=(4,4))\n",
    "plt.show()"
   ]
  },
  {
   "cell_type": "markdown",
   "id": "unusual-wrapping",
   "metadata": {},
   "source": [
    "### CO"
   ]
  },
  {
   "cell_type": "code",
   "execution_count": 13,
   "id": "bridal-delta",
   "metadata": {},
   "outputs": [
    {
     "data": {
      "image/png": "[encoded data removed]",
      "text/plain": [
       "<Figure size 288x288 with 1 Axes>"
      ]
     },
     "metadata": {
      "needs_background": "light"
     },
     "output_type": "display_data"
    }
   ],
   "source": [
    "CO=[]\n",
    "\n",
    "for i in range(2615):\n",
    "    if data['Formula'][i].count('CO')>0:\n",
    "        CO.append(1)\n",
    "    else:\n",
    "        CO.append(0)\n",
    "        \n",
    "data['CO']=CO\n",
    "\n",
    "CO=pd.crosstab(data['CO'],data['soluble'])\n",
    "CO.div(CO.sum(1).astype(float),axis=0).plot(kind='bar',stacked=True, figsize=(4,4))\n",
    "plt.show()"
   ]
  },
  {
   "cell_type": "markdown",
   "id": "greek-cutting",
   "metadata": {},
   "source": [
    "### NC"
   ]
  },
  {
   "cell_type": "code",
   "execution_count": 14,
   "id": "short-spiritual",
   "metadata": {},
   "outputs": [
    {
     "data": {
      "image/png": "[encoded data removed]",
      "text/plain": [
       "<Figure size 288x288 with 1 Axes>"
      ]
     },
     "metadata": {
      "needs_background": "light"
     },
     "output_type": "display_data"
    }
   ],
   "source": [
    "NC=[]\n",
    "\n",
    "for i in range(2615):\n",
    "    if data['Formula'][i].count('NC')>0:\n",
    "        NC.append(1)\n",
    "    else:\n",
    "        NC.append(0)\n",
    "        \n",
    "data['NC']=NC\n",
    "\n",
    "NC=pd.crosstab(data['NC'],data['soluble'])\n",
    "NC.div(NC.sum(1).astype(float),axis=0).plot(kind='bar',stacked=True, figsize=(4,4))\n",
    "plt.show()"
   ]
  },
  {
   "cell_type": "markdown",
   "id": "average-analyst",
   "metadata": {},
   "source": [
    "## Logistic Regression"
   ]
  },
  {
   "cell_type": "code",
   "execution_count": 16,
   "id": "happy-adrian",
   "metadata": {},
   "outputs": [],
   "source": [
    "from sklearn.model_selection import train_test_split\n",
    "from sklearn.preprocessing import StandardScaler"
   ]
  },
  {
   "cell_type": "code",
   "execution_count": 50,
   "id": "friendly-recipe",
   "metadata": {},
   "outputs": [],
   "source": [
    "X=data.drop(['soluble','Formula','name'],axis=1)\n",
    "y=data['soluble']"
   ]
  },
  {
   "cell_type": "markdown",
   "id": "cooked-irrigation",
   "metadata": {},
   "source": [
    "*Data Standartization*"
   ]
  },
  {
   "cell_type": "code",
   "execution_count": 93,
   "id": "infectious-thirty",
   "metadata": {},
   "outputs": [],
   "source": [
    "scaler=StandardScaler()\n",
    "X_scaled = scaler.fit_transform(X) "
   ]
  },
  {
   "cell_type": "code",
   "execution_count": 94,
   "id": "incomplete-nirvana",
   "metadata": {},
   "outputs": [],
   "source": [
    "# Split data into train and test subsets\n",
    "x_train, x_test, y_train,y_test=train_test_split(X_scaled,y,test_size=0.3,random_state=1,stratify=y)"
   ]
  },
  {
   "cell_type": "code",
   "execution_count": 95,
   "id": "least-winter",
   "metadata": {},
   "outputs": [],
   "source": [
    "# Import Logistic Regression and selected scores\n",
    "from sklearn.linear_model import LogisticRegression\n",
    "from sklearn.metrics import accuracy_score,f1_score"
   ]
  },
  {
   "cell_type": "code",
   "execution_count": 96,
   "id": "organizational-peeing",
   "metadata": {},
   "outputs": [
    {
     "data": {
      "text/html": [
       "<style>#sk-container-id-5 {color: black;background-color: white;}#sk-container-id-5 pre{padding: 0;}#sk-container-id-5 div.sk-toggleable {background-color: white;}#sk-container-id-5 label.sk-toggleable__label {cursor: pointer;display: block;width: 100%;margin-bottom: 0;padding: 0.3em;box-sizing: border-box;text-align: center;}#sk-container-id-5 label.sk-toggleable__label-arrow:before {content: \"▸\";float: left;margin-right: 0.25em;color: #696969;}#sk-container-id-5 label.sk-toggleable__label-arrow:hover:before {color: black;}#sk-container-id-5 div.sk-estimator:hover label.sk-toggleable__label-arrow:before {color: black;}#sk-container-id-5 div.sk-toggleable__content {max-height: 0;max-width: 0;overflow: hidden;text-align: left;background-color: #f0f8ff;}#sk-container-id-5 div.sk-toggleable__content pre {margin: 0.2em;color: black;border-radius: 0.25em;background-color: #f0f8ff;}#sk-container-id-5 input.sk-toggleable__control:checked~div.sk-toggleable__content {max-height: 200px;max-width: 100%;overflow: auto;}#sk-container-id-5 input.sk-toggleable__control:checked~label.sk-toggleable__label-arrow:before {content: \"▾\";}#sk-container-id-5 div.sk-estimator input.sk-toggleable__control:checked~label.sk-toggleable__label {background-color: #d4ebff;}#sk-container-id-5 div.sk-label input.sk-toggleable__control:checked~label.sk-toggleable__label {background-color: #d4ebff;}#sk-container-id-5 input.sk-hidden--visually {border: 0;clip: rect(1px 1px 1px 1px);clip: rect(1px, 1px, 1px, 1px);height: 1px;margin: -1px;overflow: hidden;padding: 0;position: absolute;width: 1px;}#sk-container-id-5 div.sk-estimator {font-family: monospace;background-color: #f0f8ff;border: 1px dotted black;border-radius: 0.25em;box-sizing: border-box;margin-bottom: 0.5em;}#sk-container-id-5 div.sk-estimator:hover {background-color: #d4ebff;}#sk-container-id-5 div.sk-parallel-item::after {content: \"\";width: 100%;border-bottom: 1px solid gray;flex-grow: 1;}#sk-container-id-5 div.sk-label:hover label.sk-toggleable__label {background-color: #d4ebff;}#sk-container-id-5 div.sk-serial::before {content: \"\";position: absolute;border-left: 1px solid gray;box-sizing: border-box;top: 0;bottom: 0;left: 50%;z-index: 0;}#sk-container-id-5 div.sk-serial {display: flex;flex-direction: column;align-items: center;background-color: white;padding-right: 0.2em;padding-left: 0.2em;position: relative;}#sk-container-id-5 div.sk-item {position: relative;z-index: 1;}#sk-container-id-5 div.sk-parallel {display: flex;align-items: stretch;justify-content: center;background-color: white;position: relative;}#sk-container-id-5 div.sk-item::before, #sk-container-id-5 div.sk-parallel-item::before {content: \"\";position: absolute;border-left: 1px solid gray;box-sizing: border-box;top: 0;bottom: 0;left: 50%;z-index: -1;}#sk-container-id-5 div.sk-parallel-item {display: flex;flex-direction: column;z-index: 1;position: relative;background-color: white;}#sk-container-id-5 div.sk-parallel-item:first-child::after {align-self: flex-end;width: 50%;}#sk-container-id-5 div.sk-parallel-item:last-child::after {align-self: flex-start;width: 50%;}#sk-container-id-5 div.sk-parallel-item:only-child::after {width: 0;}#sk-container-id-5 div.sk-dashed-wrapped {border: 1px dashed gray;margin: 0 0.4em 0.5em 0.4em;box-sizing: border-box;padding-bottom: 0.4em;background-color: white;}#sk-container-id-5 div.sk-label label {font-family: monospace;font-weight: bold;display: inline-block;line-height: 1.2em;}#sk-container-id-5 div.sk-label-container {text-align: center;}#sk-container-id-5 div.sk-container {/* jupyter's `normalize.less` sets `[hidden] { display: none; }` but bootstrap.min.css set `[hidden] { display: none !important; }` so we also need the `!important` here to be able to override the default hidden behavior on the sphinx rendered scikit-learn.org. See: https://github.com/scikit-learn/scikit-learn/issues/21755 */display: inline-block !important;position: relative;}#sk-container-id-5 div.sk-text-repr-fallback {display: none;}</style><div id=\"sk-container-id-5\" class=\"sk-top-container\"><div class=\"sk-text-repr-fallback\"><pre>LogisticRegression(random_state=1)</pre><b>In a Jupyter environment, please rerun this cell to show the HTML representation or trust the notebook. <br />On GitHub, the HTML representation is unable to render, please try loading this page with nbviewer.org.</b></div><div class=\"sk-container\" hidden><div class=\"sk-item\"><div class=\"sk-estimator sk-toggleable\"><input class=\"sk-toggleable__control sk-hidden--visually\" id=\"sk-estimator-id-5\" type=\"checkbox\" checked><label for=\"sk-estimator-id-5\" class=\"sk-toggleable__label sk-toggleable__label-arrow\">LogisticRegression</label><div class=\"sk-toggleable__content\"><pre>LogisticRegression(random_state=1)</pre></div></div></div></div></div>"
      ],
      "text/plain": [
       "LogisticRegression(random_state=1)"
      ]
     },
     "execution_count": 96,
     "metadata": {},
     "output_type": "execute_result"
    }
   ],
   "source": [
    "model=LogisticRegression(random_state=1)\n",
    "model.fit(x_train,y_train)"
   ]
  },
  {
   "cell_type": "code",
   "execution_count": 97,
   "id": "killing-assessment",
   "metadata": {},
   "outputs": [
    {
     "name": "stdout",
     "output_type": "stream",
     "text": [
      "Model test accuracy: 0.9095541401273886\n",
      "Test F1 score: 0.9413707679603633\n"
     ]
    }
   ],
   "source": [
    "pred_test=model.predict(x_test)\n",
    "print('Model test accuracy:',accuracy_score(y_test,pred_test))\n",
    "print('Test F1 score:',f1_score(y_test,pred_test))"
   ]
  },
  {
   "cell_type": "code",
   "execution_count": 98,
   "id": "incident-devon",
   "metadata": {},
   "outputs": [],
   "source": [
    "from sklearn.feature_selection import RFE"
   ]
  },
  {
   "cell_type": "code",
   "execution_count": 100,
   "id": "gross-annex",
   "metadata": {},
   "outputs": [
    {
     "name": "stdout",
     "output_type": "stream",
     "text": [
      "        Feature_name  Rank\n",
      "4               logP     1\n",
      "1             Tmp, C     2\n",
      "0   Molecular weight     3\n",
      "5              alpha     4\n",
      "9       double_bonds     5\n",
      "6             pK1_NA     6\n",
      "3              f(ui)     7\n",
      "8         long_chain     8\n",
      "13                NC     9\n",
      "10          chlorine    10\n",
      "7             charge    11\n",
      "12                CO    12\n",
      "2                pK1    13\n",
      "11          fluorine    14\n"
     ]
    }
   ],
   "source": [
    "model=LogisticRegression(random_state=1)\n",
    "\n",
    "rfe=RFE(estimator=model,n_features_to_select=1,step=1)\n",
    "rfe.fit(x_train,y_train)\n",
    "\n",
    "ranking_df=pd.DataFrame()\n",
    "ranking_df['Feature_name']=X.columns\n",
    "ranking_df['Rank']=rfe.ranking_\n",
    "\n",
    "ranked=ranking_df.sort_values(by=['Rank'])\n",
    "print(ranked)"
   ]
  },
  {
   "cell_type": "code",
   "execution_count": 56,
   "id": "bulgarian-beaver",
   "metadata": {},
   "outputs": [],
   "source": [
    "def run_model(model,x_train,x_test,y_train,y_test):\n",
    "    model=model\n",
    "    model.fit(x_train,y_train)\n",
    "    y_pred=model.predict(x_test)\n",
    "    print('Test accuracy score: ', accuracy_score(y_test,y_pred))\n",
    "    print('Test F1 score: ', f1_score(y_test,y_pred))"
   ]
  },
  {
   "cell_type": "code",
   "execution_count": 71,
   "id": "raised-iraqi",
   "metadata": {},
   "outputs": [],
   "source": [
    "def select_features_rfe(model,x_train,x_test,y_train,y_test):\n",
    "    for index in range(1,x_train.shape[1]+1):\n",
    "        selct=RFE(model,n_features_to_select=index)\n",
    "        selct.fit(x_train,y_train)\n",
    "        x_train_rfe=selct.transform(x_train)\n",
    "        x_test_rfe=selct.transform(x_test)\n",
    "        print('Selected feature: ', index)  \n",
    "        run_model(model,x_train_rfe,x_test_rfe,y_train,y_test)"
   ]
  },
  {
   "cell_type": "code",
   "execution_count": 102,
   "id": "smoking-blast",
   "metadata": {},
   "outputs": [
    {
     "name": "stdout",
     "output_type": "stream",
     "text": [
      "Selected feature:  1\n",
      "Test accuracy score:  0.9057324840764331\n",
      "Test F1 score:  0.9393442622950819\n",
      "Selected feature:  2\n",
      "Test accuracy score:  0.9044585987261147\n",
      "Test F1 score:  0.9379652605459058\n",
      "Selected feature:  3\n",
      "Test accuracy score:  0.9006369426751593\n",
      "Test F1 score:  0.9353233830845771\n",
      "Selected feature:  4\n",
      "Test accuracy score:  0.9031847133757962\n",
      "Test F1 score:  0.9369817578772802\n",
      "Selected feature:  5\n",
      "Test accuracy score:  0.9070063694267516\n",
      "Test F1 score:  0.9395194697597349\n",
      "Selected feature:  6\n",
      "Test accuracy score:  0.9159235668789809\n",
      "Test F1 score:  0.945273631840796\n",
      "Selected feature:  7\n",
      "Test accuracy score:  0.9159235668789809\n",
      "Test F1 score:  0.9451827242524916\n",
      "Selected feature:  8\n",
      "Test accuracy score:  0.913375796178344\n",
      "Test F1 score:  0.943801652892562\n",
      "Selected feature:  9\n",
      "Test accuracy score:  0.9044585987261147\n",
      "Test F1 score:  0.9380677126341866\n",
      "Selected feature:  10\n",
      "Test accuracy score:  0.9057324840764331\n",
      "Test F1 score:  0.9388429752066116\n",
      "Selected feature:  11\n",
      "Test accuracy score:  0.9095541401273886\n",
      "Test F1 score:  0.9412737799834574\n",
      "Selected feature:  12\n",
      "Test accuracy score:  0.9082802547770701\n",
      "Test F1 score:  0.9405940594059405\n",
      "Selected feature:  13\n",
      "Test accuracy score:  0.9082802547770701\n",
      "Test F1 score:  0.9405940594059405\n",
      "Selected feature:  14\n",
      "Test accuracy score:  0.9095541401273886\n",
      "Test F1 score:  0.9413707679603633\n"
     ]
    }
   ],
   "source": [
    "select_features_rfe(LogisticRegression(),x_train,x_test,y_train,y_test)"
   ]
  },
  {
   "cell_type": "code",
   "execution_count": 103,
   "id": "mighty-findings",
   "metadata": {},
   "outputs": [
    {
     "name": "stdout",
     "output_type": "stream",
     "text": [
      "Test accuracy score:  0.9159235668789809\n",
      "Test F1 score:  0.945273631840796\n"
     ]
    }
   ],
   "source": [
    "selct=RFE(LogisticRegression(random_state=1),n_features_to_select=6)\n",
    "selct.fit(x_train,y_train)\n",
    "x_train_rfe=selct.transform(x_train)\n",
    "x_test_rfe=selct.transform(x_test)\n",
    "run_model(LogisticRegression(random_state=1),x_train_rfe,x_test_rfe,y_train,y_test)"
   ]
  },
  {
   "cell_type": "code",
   "execution_count": 104,
   "id": "changed-childhood",
   "metadata": {},
   "outputs": [
    {
     "data": {
      "text/plain": [
       "Index(['Molecular weight', 'Tmp, C', 'logP', 'alpha', 'pK1_NA',\n",
       "       'double_bonds'],\n",
       "      dtype='object')"
      ]
     },
     "execution_count": 104,
     "metadata": {},
     "output_type": "execute_result"
    }
   ],
   "source": [
    "features=X.columns[selct.get_support()]\n",
    "features"
   ]
  },
  {
   "cell_type": "markdown",
   "id": "educated-microphone",
   "metadata": {},
   "source": [
    "## Decision tree"
   ]
  },
  {
   "cell_type": "code",
   "execution_count": 105,
   "id": "stock-marketplace",
   "metadata": {},
   "outputs": [],
   "source": [
    "# Split data into train and test subsets\n",
    "x_train, x_test, y_train,y_test=train_test_split(X,y,test_size=0.3,random_state=1,stratify=y)"
   ]
  },
  {
   "cell_type": "code",
   "execution_count": 75,
   "id": "earlier-lesson",
   "metadata": {},
   "outputs": [
    {
     "name": "stdout",
     "output_type": "stream",
     "text": [
      "Selected feature:  1\n",
      "Test accuracy score:  0.8751592356687898\n",
      "Test F1 score:  0.9163822525597269\n",
      "Selected feature:  2\n",
      "Test accuracy score:  0.8853503184713376\n",
      "Test F1 score:  0.9242424242424242\n",
      "Selected feature:  3\n",
      "Test accuracy score:  0.8789808917197452\n",
      "Test F1 score:  0.9199663016006739\n",
      "Selected feature:  4\n",
      "Test accuracy score:  0.8789808917197452\n",
      "Test F1 score:  0.9196956889264581\n",
      "Selected feature:  5\n",
      "Test accuracy score:  0.8878980891719745\n",
      "Test F1 score:  0.9259259259259259\n",
      "Selected feature:  6\n",
      "Test accuracy score:  0.9019108280254777\n",
      "Test F1 score:  0.9354568315171837\n",
      "Selected feature:  7\n",
      "Test accuracy score:  0.8904458598726115\n",
      "Test F1 score:  0.9268707482993197\n",
      "Selected feature:  8\n",
      "Test accuracy score:  0.8993630573248408\n",
      "Test F1 score:  0.9336691855583543\n",
      "Selected feature:  9\n",
      "Test accuracy score:  0.9031847133757962\n",
      "Test F1 score:  0.9363484087102177\n",
      "Selected feature:  10\n",
      "Test accuracy score:  0.8929936305732484\n",
      "Test F1 score:  0.9290540540540542\n",
      "Selected feature:  11\n",
      "Test accuracy score:  0.8993630573248408\n",
      "Test F1 score:  0.9335576114381834\n",
      "Selected feature:  12\n",
      "Test accuracy score:  0.9031847133757962\n",
      "Test F1 score:  0.9361344537815126\n",
      "Selected feature:  13\n",
      "Test accuracy score:  0.8993630573248408\n",
      "Test F1 score:  0.9332206255283179\n",
      "Selected feature:  14\n",
      "Test accuracy score:  0.8980891719745223\n",
      "Test F1 score:  0.9324324324324323\n"
     ]
    }
   ],
   "source": [
    "from sklearn import tree\n",
    "\n",
    "select_features_rfe(tree.DecisionTreeClassifier(random_state=1),x_train,x_test,y_train,y_test)"
   ]
  },
  {
   "cell_type": "code",
   "execution_count": 76,
   "id": "certain-flexibility",
   "metadata": {},
   "outputs": [
    {
     "name": "stdout",
     "output_type": "stream",
     "text": [
      "Test accuracy score:  0.9031847133757962\n",
      "Test F1 score:  0.9363484087102177\n"
     ]
    }
   ],
   "source": [
    "selct=RFE(tree.DecisionTreeClassifier(random_state=1),n_features_to_select=9)\n",
    "selct.fit(x_train,y_train)\n",
    "x_train_rfe=selct.transform(x_train)\n",
    "x_test_rfe=selct.transform(x_test)\n",
    "run_model(tree.DecisionTreeClassifier(random_state=1),x_train_rfe,x_test_rfe,y_train,y_test)"
   ]
  },
  {
   "cell_type": "code",
   "execution_count": 77,
   "id": "recent-commercial",
   "metadata": {},
   "outputs": [
    {
     "data": {
      "text/plain": [
       "Index(['Molecular weight', 'Tmp, C', 'pK1', 'f(ui)', 'logP', 'alpha', 'charge',\n",
       "       'CO', 'NC'],\n",
       "      dtype='object')"
      ]
     },
     "execution_count": 77,
     "metadata": {},
     "output_type": "execute_result"
    }
   ],
   "source": [
    "features=x_train.columns[selct.get_support()]\n",
    "features"
   ]
  },
  {
   "cell_type": "markdown",
   "id": "opponent-metadata",
   "metadata": {},
   "source": [
    "## Random Forest"
   ]
  },
  {
   "cell_type": "code",
   "execution_count": 63,
   "id": "inner-macintosh",
   "metadata": {},
   "outputs": [],
   "source": [
    "from sklearn.ensemble import RandomForestClassifier"
   ]
  },
  {
   "cell_type": "code",
   "execution_count": 64,
   "id": "hispanic-tract",
   "metadata": {},
   "outputs": [
    {
     "data": {
      "text/html": [
       "<style>#sk-container-id-4 {color: black;background-color: white;}#sk-container-id-4 pre{padding: 0;}#sk-container-id-4 div.sk-toggleable {background-color: white;}#sk-container-id-4 label.sk-toggleable__label {cursor: pointer;display: block;width: 100%;margin-bottom: 0;padding: 0.3em;box-sizing: border-box;text-align: center;}#sk-container-id-4 label.sk-toggleable__label-arrow:before {content: \"▸\";float: left;margin-right: 0.25em;color: #696969;}#sk-container-id-4 label.sk-toggleable__label-arrow:hover:before {color: black;}#sk-container-id-4 div.sk-estimator:hover label.sk-toggleable__label-arrow:before {color: black;}#sk-container-id-4 div.sk-toggleable__content {max-height: 0;max-width: 0;overflow: hidden;text-align: left;background-color: #f0f8ff;}#sk-container-id-4 div.sk-toggleable__content pre {margin: 0.2em;color: black;border-radius: 0.25em;background-color: #f0f8ff;}#sk-container-id-4 input.sk-toggleable__control:checked~div.sk-toggleable__content {max-height: 200px;max-width: 100%;overflow: auto;}#sk-container-id-4 input.sk-toggleable__control:checked~label.sk-toggleable__label-arrow:before {content: \"▾\";}#sk-container-id-4 div.sk-estimator input.sk-toggleable__control:checked~label.sk-toggleable__label {background-color: #d4ebff;}#sk-container-id-4 div.sk-label input.sk-toggleable__control:checked~label.sk-toggleable__label {background-color: #d4ebff;}#sk-container-id-4 input.sk-hidden--visually {border: 0;clip: rect(1px 1px 1px 1px);clip: rect(1px, 1px, 1px, 1px);height: 1px;margin: -1px;overflow: hidden;padding: 0;position: absolute;width: 1px;}#sk-container-id-4 div.sk-estimator {font-family: monospace;background-color: #f0f8ff;border: 1px dotted black;border-radius: 0.25em;box-sizing: border-box;margin-bottom: 0.5em;}#sk-container-id-4 div.sk-estimator:hover {background-color: #d4ebff;}#sk-container-id-4 div.sk-parallel-item::after {content: \"\";width: 100%;border-bottom: 1px solid gray;flex-grow: 1;}#sk-container-id-4 div.sk-label:hover label.sk-toggleable__label {background-color: #d4ebff;}#sk-container-id-4 div.sk-serial::before {content: \"\";position: absolute;border-left: 1px solid gray;box-sizing: border-box;top: 0;bottom: 0;left: 50%;z-index: 0;}#sk-container-id-4 div.sk-serial {display: flex;flex-direction: column;align-items: center;background-color: white;padding-right: 0.2em;padding-left: 0.2em;position: relative;}#sk-container-id-4 div.sk-item {position: relative;z-index: 1;}#sk-container-id-4 div.sk-parallel {display: flex;align-items: stretch;justify-content: center;background-color: white;position: relative;}#sk-container-id-4 div.sk-item::before, #sk-container-id-4 div.sk-parallel-item::before {content: \"\";position: absolute;border-left: 1px solid gray;box-sizing: border-box;top: 0;bottom: 0;left: 50%;z-index: -1;}#sk-container-id-4 div.sk-parallel-item {display: flex;flex-direction: column;z-index: 1;position: relative;background-color: white;}#sk-container-id-4 div.sk-parallel-item:first-child::after {align-self: flex-end;width: 50%;}#sk-container-id-4 div.sk-parallel-item:last-child::after {align-self: flex-start;width: 50%;}#sk-container-id-4 div.sk-parallel-item:only-child::after {width: 0;}#sk-container-id-4 div.sk-dashed-wrapped {border: 1px dashed gray;margin: 0 0.4em 0.5em 0.4em;box-sizing: border-box;padding-bottom: 0.4em;background-color: white;}#sk-container-id-4 div.sk-label label {font-family: monospace;font-weight: bold;display: inline-block;line-height: 1.2em;}#sk-container-id-4 div.sk-label-container {text-align: center;}#sk-container-id-4 div.sk-container {/* jupyter's `normalize.less` sets `[hidden] { display: none; }` but bootstrap.min.css set `[hidden] { display: none !important; }` so we also need the `!important` here to be able to override the default hidden behavior on the sphinx rendered scikit-learn.org. See: https://github.com/scikit-learn/scikit-learn/issues/21755 */display: inline-block !important;position: relative;}#sk-container-id-4 div.sk-text-repr-fallback {display: none;}</style><div id=\"sk-container-id-4\" class=\"sk-top-container\"><div class=\"sk-text-repr-fallback\"><pre>RandomForestClassifier(max_depth=9, random_state=1)</pre><b>In a Jupyter environment, please rerun this cell to show the HTML representation or trust the notebook. <br />On GitHub, the HTML representation is unable to render, please try loading this page with nbviewer.org.</b></div><div class=\"sk-container\" hidden><div class=\"sk-item\"><div class=\"sk-estimator sk-toggleable\"><input class=\"sk-toggleable__control sk-hidden--visually\" id=\"sk-estimator-id-4\" type=\"checkbox\" checked><label for=\"sk-estimator-id-4\" class=\"sk-toggleable__label sk-toggleable__label-arrow\">RandomForestClassifier</label><div class=\"sk-toggleable__content\"><pre>RandomForestClassifier(max_depth=9, random_state=1)</pre></div></div></div></div></div>"
      ],
      "text/plain": [
       "RandomForestClassifier(max_depth=9, random_state=1)"
      ]
     },
     "execution_count": 64,
     "metadata": {},
     "output_type": "execute_result"
    }
   ],
   "source": [
    "model=RandomForestClassifier(random_state=1,max_depth=9)\n",
    "model.fit(x_train,y_train)"
   ]
  },
  {
   "cell_type": "code",
   "execution_count": 65,
   "id": "bacterial-zoning",
   "metadata": {},
   "outputs": [
    {
     "name": "stdout",
     "output_type": "stream",
     "text": [
      "Model test accuracy: 0.9286624203821656\n",
      "Test F1 score: 0.9534883720930232\n"
     ]
    }
   ],
   "source": [
    "pred_test=model.predict(x_test)\n",
    "print('Model test accuracy:',accuracy_score(y_test,pred_test))\n",
    "print('Test F1 score:',f1_score(y_test,pred_test))"
   ]
  },
  {
   "cell_type": "code",
   "execution_count": 79,
   "id": "accessory-entertainment",
   "metadata": {},
   "outputs": [
    {
     "name": "stdout",
     "output_type": "stream",
     "text": [
      "Selected feature:  1\n",
      "Test accuracy score:  0.9031847133757962\n",
      "Test F1 score:  0.9370860927152318\n",
      "Selected feature:  2\n",
      "Test accuracy score:  0.9082802547770701\n",
      "Test F1 score:  0.9400998336106489\n",
      "Selected feature:  3\n",
      "Test accuracy score:  0.9184713375796179\n",
      "Test F1 score:  0.9470198675496689\n",
      "Selected feature:  4\n",
      "Test accuracy score:  0.9235668789808917\n",
      "Test F1 score:  0.9502487562189054\n",
      "Selected feature:  5\n",
      "Test accuracy score:  0.9210191082802548\n",
      "Test F1 score:  0.9485903814262022\n",
      "Selected feature:  6\n",
      "Test accuracy score:  0.9273885350318471\n",
      "Test F1 score:  0.9526970954356846\n",
      "Selected feature:  7\n",
      "Test accuracy score:  0.9222929936305733\n",
      "Test F1 score:  0.949628406275805\n",
      "Selected feature:  8\n",
      "Test accuracy score:  0.9286624203821656\n",
      "Test F1 score:  0.9534109816971713\n",
      "Selected feature:  9\n",
      "Test accuracy score:  0.9286624203821656\n",
      "Test F1 score:  0.9534109816971713\n",
      "Selected feature:  10\n",
      "Test accuracy score:  0.9286624203821656\n",
      "Test F1 score:  0.9536423841059603\n",
      "Selected feature:  11\n",
      "Test accuracy score:  0.9337579617834395\n",
      "Test F1 score:  0.9566666666666667\n",
      "Selected feature:  12\n",
      "Test accuracy score:  0.9273885350318471\n",
      "Test F1 score:  0.9523809523809523\n",
      "Selected feature:  13\n",
      "Test accuracy score:  0.9261146496815287\n",
      "Test F1 score:  0.9515050167224081\n",
      "Selected feature:  14\n",
      "Test accuracy score:  0.9286624203821656\n",
      "Test F1 score:  0.9534883720930232\n"
     ]
    }
   ],
   "source": [
    "select_features_rfe(RandomForestClassifier(random_state=1,max_depth=9),x_train,x_test,y_train,y_test)"
   ]
  },
  {
   "cell_type": "code",
   "execution_count": 80,
   "id": "mechanical-jamaica",
   "metadata": {},
   "outputs": [
    {
     "name": "stdout",
     "output_type": "stream",
     "text": [
      "Test accuracy score:  0.9337579617834395\n",
      "Test F1 score:  0.9566666666666667\n"
     ]
    }
   ],
   "source": [
    "selct=RFE(RandomForestClassifier(random_state=1,max_depth=9),n_features_to_select=11)\n",
    "selct.fit(x_train,y_train)\n",
    "x_train_rfe=selct.transform(x_train)\n",
    "x_test_rfe=selct.transform(x_test)\n",
    "run_model(RandomForestClassifier(random_state=1,max_depth=9),x_train_rfe,x_test_rfe,y_train,y_test)"
   ]
  },
  {
   "cell_type": "code",
   "execution_count": 81,
   "id": "aerial-remark",
   "metadata": {},
   "outputs": [
    {
     "data": {
      "text/plain": [
       "Index(['Molecular weight', 'Tmp, C', 'pK1', 'f(ui)', 'logP', 'alpha', 'pK1_NA',\n",
       "       'long_chain', 'double_bonds', 'chlorine', 'NC'],\n",
       "      dtype='object')"
      ]
     },
     "execution_count": 81,
     "metadata": {},
     "output_type": "execute_result"
    }
   ],
   "source": [
    "features=x_train.columns[selct.get_support()]\n",
    "features"
   ]
  }
 ],
 "metadata": {
  "kernelspec": {
   "display_name": "Python 3",
   "language": "python",
   "name": "python3"
  },
  "language_info": {
   "codemirror_mode": {
    "name": "ipython",
    "version": 3
   },
   "file_extension": ".py",
   "mimetype": "text/x-python",
   "name": "python",
   "nbconvert_exporter": "python",
   "pygments_lexer": "ipython3",
   "version": "3.9.2"
  }
 },
 "nbformat": 4,
 "nbformat_minor": 5
}
